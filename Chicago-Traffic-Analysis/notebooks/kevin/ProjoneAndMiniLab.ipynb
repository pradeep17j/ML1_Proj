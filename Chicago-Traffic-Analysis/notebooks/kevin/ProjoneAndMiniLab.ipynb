{
 "cells": [
  {
   "cell_type": "markdown",
   "metadata": {},
   "source": [
    "# Predicting Car Crashes and Injuries\n",
    " By Kevin, Pradeep, Sangrae, and DJ"
   ]
  },
  {
   "cell_type": "markdown",
   "metadata": {
    "heading_collapsed": true
   },
   "source": [
    "## Table of contents"
   ]
  },
  {
   "cell_type": "markdown",
   "metadata": {
    "hidden": true
   },
   "source": [
    "1. [The Problem](#problem)\n",
    "2. [Setup](#setup)\n",
    "3. [Load](#load)\n",
    "4. [Cleanup](#cleanup)\n",
    "    1. [Reduced Dataset](#reduced)\n",
    "    2. [Inspection](#firstpass)\n",
    "5. [Pipeline](#pipeline)\n",
    "6. [Injury Classification](#classification)\n",
    "    1. [Logistic Regression](#logistic)\n",
    "    2. [Random Forest](#forest)\n",
    "    3. [Naive Bayes](#naive)\n",
    "7. [Number of Accidents](#accidents)\n",
    "    1. [Poisson Regression](#poisson)\n",
    "    2. [Hierarchical Poisson Regression](#hierarchical)\n",
    "    3. [Hidden Markov Model](#hidden)\n",
    "8. [Map](#map)\n",
    "9. [Conclusion](#conclusion)"
   ]
  },
  {
   "cell_type": "markdown",
   "metadata": {
    "heading_collapsed": true
   },
   "source": [
    "## The Problem <a name='problem'></a>"
   ]
  },
  {
   "cell_type": "markdown",
   "metadata": {
    "hidden": true
   },
   "source": [
    "Traffic collisions range from benign to catastrophic. Ideally, we would want a stronger first responder presence in areas where we expect more serious collisions. Our goal is to predict the number of collisions in every police beat in Chicago during a single shift, whether there are injuries in a given accident, and the severity of those injuries. \n",
    "\n",
    "We use a hidden markov model to leverage spatial and temporal data to predict the number of crashes in a given beat during a shift. We will then sample from the posterior and create a chloropleth map that shows the predicted number of accidents per beat in a given shift. The number of injuries in a given accident can be predicted using a zero-inflated poisson model. We measure the severity of injuries by counting the number of fatal and incapacitating injuries in a given accident."
   ]
  },
  {
   "cell_type": "markdown",
   "metadata": {
    "heading_collapsed": true
   },
   "source": [
    "## Setup <a name='setup'></a>"
   ]
  },
  {
   "cell_type": "code",
<<<<<<< HEAD
<<<<<<< HEAD
   "execution_count": 1,
   "metadata": {
    "ExecuteTime": {
     "end_time": "2020-03-03T02:43:37.988534Z",
     "start_time": "2020-03-03T02:43:37.402568Z"
=======
   "execution_count": 172,
   "metadata": {
    "ExecuteTime": {
     "end_time": "2020-03-04T23:14:04.143831Z",
     "start_time": "2020-03-04T23:14:04.134242Z"
>>>>>>> kevin
=======
   "execution_count": 1,
   "metadata": {
    "ExecuteTime": {
     "end_time": "2020-03-05T02:45:35.108975Z",
     "start_time": "2020-03-05T02:45:34.578818Z"
>>>>>>> kevin
    },
    "hidden": true,
    "init_cell": true
   },
   "outputs": [],
   "source": [
    "import numpy as np\n",
    "import pandas as pd\n",
    "\n",
    "from scipy.stats import randint\n",
    "from scipy.sparse import csr_matrix\n",
    "from sklearn.base import TransformerMixin\n",
    "from sklearn.metrics import classification_report\n",
    "from multiprocessing import cpu_count\n",
    "from sklearn.preprocessing import StandardScaler, OneHotEncoder\n",
    "from sklearn.decomposition import TruncatedSVD\n",
    "from sklearn.model_selection import TimeSeriesSplit, GridSearchCV, RandomizedSearchCV\n",
    "from sklearn.compose import ColumnTransformer\n",
    "from sklearn.impute import SimpleImputer\n",
    "from sklearn.linear_model import LogisticRegression\n",
    "from sklearn.ensemble import RandomForestClassifier\n",
    "from sklearn.naive_bayes import GaussianNB\n",
    "from imblearn.under_sampling import RandomUnderSampler\n",
    "from imblearn.pipeline import Pipeline\n",
    "import pomegranate\n",
    "import matplotlib.pyplot as plt\n",
    "import seaborn as sns\n",
    "from IPython.display import set_matplotlib_formats\n",
    "\n",
    "\n",
    "pd.set_option('display.max_columns', 999)\n",
    "\n",
    "set_matplotlib_formats('pdf', 'png')\n",
    "plt.rcParams['savefig.dpi'] = 75\n",
    "\n",
    "plt.rcParams['figure.autolayout'] = False\n",
    "plt.rcParams['figure.figsize'] = 10, 6\n",
    "plt.rcParams['axes.labelsize'] = 18\n",
    "plt.rcParams['axes.titlesize'] = 20\n",
    "plt.rcParams['font.size'] = 16\n",
    "plt.rcParams['lines.linewidth'] = 2.0\n",
    "plt.rcParams['lines.markersize'] = 8\n",
    "plt.rcParams['legend.fontsize'] = 14\n",
    "\n",
    "plt.rcParams['text.usetex'] = False\n",
    "plt.rcParams['font.family'] = \"serif\"\n",
    "plt.rcParams['font.serif'] = \"cm\"\n",
    "\n"
   ]
  },
  {
   "cell_type": "markdown",
   "metadata": {
    "heading_collapsed": true
   },
   "source": [
    "## Load <a name='load'></a>"
   ]
  },
  {
   "cell_type": "markdown",
   "metadata": {
    "hidden": true
   },
   "source": [
    "Categorical variables are typed as abstract objects by default, so we explicitly tell pandas to type them as categories. We are also aware that there are 'UNKNOWN' values in the dataset that should be read as missing, so we pass a list containing 'UNKNOWN' to read_csv. "
   ]
  },
  {
   "cell_type": "code",
   "execution_count": 34,
   "metadata": {
    "ExecuteTime": {
<<<<<<< HEAD
     "end_time": "2020-02-29T06:14:35.672693Z",
     "start_time": "2020-02-29T06:14:35.668749Z"
    },
    "hidden": true
=======
     "end_time": "2020-03-04T21:03:40.544807Z",
     "start_time": "2020-03-04T21:03:40.540949Z"
    }
>>>>>>> kevin
   },
   "outputs": [],
   "source": [
    "categoricals = ['CRASH_DATE_EST_I', 'TRAFFIC_CONTROL_DEVICE', 'DEVICE_CONDITION',\n",
    "                'WEATHER_CONDITION', 'LIGHTING_CONDITION', 'FIRST_CRASH_TYPE', 'TRAFFICWAY_TYPE',\n",
    "                'ALIGNMENT', 'ROADWAY_SURFACE_COND', 'ROAD_DEFECT', 'REPORT_TYPE', 'CRASH_TYPE', 'STREET_NAME',\n",
    "                'CRASH_TYPE', 'INTERSECTION_RELATED_I', 'NOT_RIGHT_OF_WAY_I', 'HIT_AND_RUN_I', 'DAMAGE',\n",
    "                'PRIM_CONTRIBUTORY_CAUSE', 'SEC_CONTRIBUTORY_CAUSE','BEAT_OF_OCCURRENCE', 'PHOTOS_TAKEN_I', 'STATEMENTS_TAKEN_I', 'DOORING_I',\n",
    "                'WORK_ZONE_I', 'WORK_ZONE_TYPE', 'WORKERS_PRESENT_I', 'INJURIES_UNKNOWN']\n",
    "dtypes = dict.fromkeys(categoricals, 'category')"
   ]
  },
  {
   "cell_type": "code",
   "execution_count": 35,
   "metadata": {
    "ExecuteTime": {
     "end_time": "2020-03-04T21:04:08.529467Z",
     "start_time": "2020-03-04T21:03:40.813607Z"
    },
    "hidden": true,
    "scrolled": false
   },
   "outputs": [
    {
     "data": {
      "text/html": [
       "<div>\n",
       "<style scoped>\n",
       "    .dataframe tbody tr th:only-of-type {\n",
       "        vertical-align: middle;\n",
       "    }\n",
       "\n",
       "    .dataframe tbody tr th {\n",
       "        vertical-align: top;\n",
       "    }\n",
       "\n",
       "    .dataframe thead th {\n",
       "        text-align: right;\n",
       "    }\n",
       "</style>\n",
       "<table border=\"1\" class=\"dataframe\">\n",
       "  <thead>\n",
       "    <tr style=\"text-align: right;\">\n",
       "      <th></th>\n",
       "      <th>RD_NO</th>\n",
       "      <th>CRASH_DATE_EST_I</th>\n",
       "      <th>CRASH_DATE</th>\n",
       "      <th>POSTED_SPEED_LIMIT</th>\n",
       "      <th>TRAFFIC_CONTROL_DEVICE</th>\n",
       "      <th>DEVICE_CONDITION</th>\n",
       "      <th>WEATHER_CONDITION</th>\n",
       "      <th>LIGHTING_CONDITION</th>\n",
       "      <th>FIRST_CRASH_TYPE</th>\n",
       "      <th>TRAFFICWAY_TYPE</th>\n",
       "      <th>LANE_CNT</th>\n",
       "      <th>ALIGNMENT</th>\n",
       "      <th>ROADWAY_SURFACE_COND</th>\n",
       "      <th>ROAD_DEFECT</th>\n",
       "      <th>REPORT_TYPE</th>\n",
       "      <th>CRASH_TYPE</th>\n",
       "      <th>INTERSECTION_RELATED_I</th>\n",
       "      <th>NOT_RIGHT_OF_WAY_I</th>\n",
       "      <th>HIT_AND_RUN_I</th>\n",
       "      <th>DAMAGE</th>\n",
       "      <th>DATE_POLICE_NOTIFIED</th>\n",
       "      <th>PRIM_CONTRIBUTORY_CAUSE</th>\n",
       "      <th>SEC_CONTRIBUTORY_CAUSE</th>\n",
       "      <th>STREET_NO</th>\n",
       "      <th>STREET_DIRECTION</th>\n",
       "      <th>STREET_NAME</th>\n",
       "      <th>BEAT_OF_OCCURRENCE</th>\n",
       "      <th>PHOTOS_TAKEN_I</th>\n",
       "      <th>STATEMENTS_TAKEN_I</th>\n",
       "      <th>DOORING_I</th>\n",
       "      <th>WORK_ZONE_I</th>\n",
       "      <th>WORK_ZONE_TYPE</th>\n",
       "      <th>WORKERS_PRESENT_I</th>\n",
       "      <th>NUM_UNITS</th>\n",
       "      <th>MOST_SEVERE_INJURY</th>\n",
       "      <th>INJURIES_TOTAL</th>\n",
       "      <th>INJURIES_FATAL</th>\n",
       "      <th>INJURIES_INCAPACITATING</th>\n",
       "      <th>INJURIES_NON_INCAPACITATING</th>\n",
       "      <th>INJURIES_REPORTED_NOT_EVIDENT</th>\n",
       "      <th>INJURIES_NO_INDICATION</th>\n",
       "      <th>INJURIES_UNKNOWN</th>\n",
       "      <th>CRASH_HOUR</th>\n",
       "      <th>CRASH_DAY_OF_WEEK</th>\n",
       "      <th>CRASH_MONTH</th>\n",
       "      <th>LATITUDE</th>\n",
       "      <th>LONGITUDE</th>\n",
       "      <th>LOCATION</th>\n",
       "    </tr>\n",
       "  </thead>\n",
       "  <tbody>\n",
       "    <tr>\n",
       "      <th>0</th>\n",
       "      <td>JC334993</td>\n",
       "      <td>NaN</td>\n",
       "      <td>2019-07-04 22:33:00</td>\n",
       "      <td>45</td>\n",
       "      <td>NO CONTROLS</td>\n",
       "      <td>NO CONTROLS</td>\n",
       "      <td>CLEAR</td>\n",
       "      <td>DARKNESS, LIGHTED ROAD</td>\n",
       "      <td>REAR END</td>\n",
       "      <td>DIVIDED - W/MEDIAN BARRIER</td>\n",
       "      <td>NaN</td>\n",
       "      <td>STRAIGHT AND LEVEL</td>\n",
       "      <td>DRY</td>\n",
       "      <td>NO DEFECTS</td>\n",
       "      <td>NaN</td>\n",
       "      <td>NO INJURY / DRIVE AWAY</td>\n",
       "      <td>NaN</td>\n",
       "      <td>NaN</td>\n",
       "      <td>NaN</td>\n",
       "      <td>OVER $1,500</td>\n",
       "      <td>07/04/2019 11:05:00 PM</td>\n",
       "      <td>FOLLOWING TOO CLOSELY</td>\n",
       "      <td>NOT APPLICABLE</td>\n",
       "      <td>300</td>\n",
       "      <td>N</td>\n",
       "      <td>LAKE SHORE DR SB</td>\n",
       "      <td>114</td>\n",
       "      <td>NaN</td>\n",
       "      <td>NaN</td>\n",
       "      <td>NaN</td>\n",
       "      <td>NaN</td>\n",
       "      <td>NaN</td>\n",
       "      <td>NaN</td>\n",
       "      <td>NaN</td>\n",
       "      <td>NaN</td>\n",
       "      <td>NaN</td>\n",
       "      <td>NaN</td>\n",
       "      <td>NaN</td>\n",
       "      <td>NaN</td>\n",
       "      <td>NaN</td>\n",
       "      <td>NaN</td>\n",
       "      <td>NaN</td>\n",
       "      <td>22</td>\n",
       "      <td>5</td>\n",
       "      <td>7</td>\n",
       "      <td>41.886140</td>\n",
       "      <td>-87.614274</td>\n",
       "      <td>POINT (-87.614274106164 41.8861404879)</td>\n",
       "    </tr>\n",
       "    <tr>\n",
       "      <th>1</th>\n",
       "      <td>JC370822</td>\n",
       "      <td>NaN</td>\n",
       "      <td>2019-07-30 10:22:00</td>\n",
       "      <td>30</td>\n",
       "      <td>NO CONTROLS</td>\n",
       "      <td>NO CONTROLS</td>\n",
       "      <td>CLEAR</td>\n",
       "      <td>DAYLIGHT</td>\n",
       "      <td>TURNING</td>\n",
       "      <td>DIVIDED - W/MEDIAN (NOT RAISED)</td>\n",
       "      <td>NaN</td>\n",
       "      <td>STRAIGHT AND LEVEL</td>\n",
       "      <td>DRY</td>\n",
       "      <td>NO DEFECTS</td>\n",
       "      <td>NaN</td>\n",
       "      <td>NO INJURY / DRIVE AWAY</td>\n",
       "      <td>NaN</td>\n",
       "      <td>NaN</td>\n",
       "      <td>NaN</td>\n",
       "      <td>OVER $1,500</td>\n",
       "      <td>07/30/2019 10:25:00 AM</td>\n",
       "      <td>FAILING TO YIELD RIGHT-OF-WAY</td>\n",
       "      <td>IMPROPER TURNING/NO SIGNAL</td>\n",
       "      <td>8201</td>\n",
       "      <td>S</td>\n",
       "      <td>DR MARTIN LUTHER KING JR DR</td>\n",
       "      <td>631</td>\n",
       "      <td>NaN</td>\n",
       "      <td>NaN</td>\n",
       "      <td>NaN</td>\n",
       "      <td>NaN</td>\n",
       "      <td>NaN</td>\n",
       "      <td>NaN</td>\n",
       "      <td>NaN</td>\n",
       "      <td>NaN</td>\n",
       "      <td>NaN</td>\n",
       "      <td>NaN</td>\n",
       "      <td>NaN</td>\n",
       "      <td>NaN</td>\n",
       "      <td>NaN</td>\n",
       "      <td>NaN</td>\n",
       "      <td>NaN</td>\n",
       "      <td>10</td>\n",
       "      <td>3</td>\n",
       "      <td>7</td>\n",
       "      <td>41.745549</td>\n",
       "      <td>-87.614670</td>\n",
       "      <td>POINT (-87.614669906271 41.745549113377)</td>\n",
       "    </tr>\n",
       "    <tr>\n",
       "      <th>2</th>\n",
       "      <td>JC387098</td>\n",
       "      <td>NaN</td>\n",
       "      <td>2019-08-10 17:00:00</td>\n",
       "      <td>25</td>\n",
       "      <td>NO CONTROLS</td>\n",
       "      <td>NO CONTROLS</td>\n",
       "      <td>CLEAR</td>\n",
       "      <td>DAYLIGHT</td>\n",
       "      <td>PARKED MOTOR VEHICLE</td>\n",
       "      <td>ONE-WAY</td>\n",
       "      <td>NaN</td>\n",
       "      <td>STRAIGHT AND LEVEL</td>\n",
       "      <td>DRY</td>\n",
       "      <td>NO DEFECTS</td>\n",
       "      <td>NaN</td>\n",
       "      <td>NO INJURY / DRIVE AWAY</td>\n",
       "      <td>NaN</td>\n",
       "      <td>NaN</td>\n",
       "      <td>NaN</td>\n",
       "      <td>$501 - $1,500</td>\n",
       "      <td>08/10/2019 05:35:00 PM</td>\n",
       "      <td>EQUIPMENT - VEHICLE CONDITION</td>\n",
       "      <td>NOT APPLICABLE</td>\n",
       "      <td>6747</td>\n",
       "      <td>S</td>\n",
       "      <td>CREGIER AVE</td>\n",
       "      <td>332</td>\n",
       "      <td>NaN</td>\n",
       "      <td>NaN</td>\n",
       "      <td>NaN</td>\n",
       "      <td>NaN</td>\n",
       "      <td>NaN</td>\n",
       "      <td>NaN</td>\n",
       "      <td>1.0</td>\n",
       "      <td>NaN</td>\n",
       "      <td>NaN</td>\n",
       "      <td>NaN</td>\n",
       "      <td>NaN</td>\n",
       "      <td>NaN</td>\n",
       "      <td>NaN</td>\n",
       "      <td>NaN</td>\n",
       "      <td>NaN</td>\n",
       "      <td>17</td>\n",
       "      <td>7</td>\n",
       "      <td>8</td>\n",
       "      <td>41.772004</td>\n",
       "      <td>-87.581234</td>\n",
       "      <td>POINT (-87.58123401629 41.772004323752)</td>\n",
       "    </tr>\n",
       "  </tbody>\n",
       "</table>\n",
       "</div>"
      ],
      "text/plain": [
       "      RD_NO CRASH_DATE_EST_I          CRASH_DATE  POSTED_SPEED_LIMIT  \\\n",
       "0  JC334993              NaN 2019-07-04 22:33:00                  45   \n",
       "1  JC370822              NaN 2019-07-30 10:22:00                  30   \n",
       "2  JC387098              NaN 2019-08-10 17:00:00                  25   \n",
       "\n",
       "  TRAFFIC_CONTROL_DEVICE DEVICE_CONDITION WEATHER_CONDITION  \\\n",
       "0            NO CONTROLS      NO CONTROLS             CLEAR   \n",
       "1            NO CONTROLS      NO CONTROLS             CLEAR   \n",
       "2            NO CONTROLS      NO CONTROLS             CLEAR   \n",
       "\n",
       "       LIGHTING_CONDITION      FIRST_CRASH_TYPE  \\\n",
       "0  DARKNESS, LIGHTED ROAD              REAR END   \n",
       "1                DAYLIGHT               TURNING   \n",
       "2                DAYLIGHT  PARKED MOTOR VEHICLE   \n",
       "\n",
       "                   TRAFFICWAY_TYPE  LANE_CNT           ALIGNMENT  \\\n",
       "0       DIVIDED - W/MEDIAN BARRIER       NaN  STRAIGHT AND LEVEL   \n",
       "1  DIVIDED - W/MEDIAN (NOT RAISED)       NaN  STRAIGHT AND LEVEL   \n",
       "2                          ONE-WAY       NaN  STRAIGHT AND LEVEL   \n",
       "\n",
       "  ROADWAY_SURFACE_COND ROAD_DEFECT REPORT_TYPE              CRASH_TYPE  \\\n",
       "0                  DRY  NO DEFECTS         NaN  NO INJURY / DRIVE AWAY   \n",
       "1                  DRY  NO DEFECTS         NaN  NO INJURY / DRIVE AWAY   \n",
       "2                  DRY  NO DEFECTS         NaN  NO INJURY / DRIVE AWAY   \n",
       "\n",
       "  INTERSECTION_RELATED_I NOT_RIGHT_OF_WAY_I HIT_AND_RUN_I         DAMAGE  \\\n",
       "0                    NaN                NaN           NaN    OVER $1,500   \n",
       "1                    NaN                NaN           NaN    OVER $1,500   \n",
       "2                    NaN                NaN           NaN  $501 - $1,500   \n",
       "\n",
       "     DATE_POLICE_NOTIFIED        PRIM_CONTRIBUTORY_CAUSE  \\\n",
       "0  07/04/2019 11:05:00 PM          FOLLOWING TOO CLOSELY   \n",
       "1  07/30/2019 10:25:00 AM  FAILING TO YIELD RIGHT-OF-WAY   \n",
       "2  08/10/2019 05:35:00 PM  EQUIPMENT - VEHICLE CONDITION   \n",
       "\n",
       "       SEC_CONTRIBUTORY_CAUSE  STREET_NO STREET_DIRECTION  \\\n",
       "0              NOT APPLICABLE        300                N   \n",
       "1  IMPROPER TURNING/NO SIGNAL       8201                S   \n",
       "2              NOT APPLICABLE       6747                S   \n",
       "\n",
       "                   STREET_NAME BEAT_OF_OCCURRENCE PHOTOS_TAKEN_I  \\\n",
       "0             LAKE SHORE DR SB                114            NaN   \n",
       "1  DR MARTIN LUTHER KING JR DR                631            NaN   \n",
       "2                  CREGIER AVE                332            NaN   \n",
       "\n",
       "  STATEMENTS_TAKEN_I DOORING_I WORK_ZONE_I WORK_ZONE_TYPE WORKERS_PRESENT_I  \\\n",
       "0                NaN       NaN         NaN            NaN               NaN   \n",
       "1                NaN       NaN         NaN            NaN               NaN   \n",
       "2                NaN       NaN         NaN            NaN               NaN   \n",
       "\n",
       "   NUM_UNITS MOST_SEVERE_INJURY  INJURIES_TOTAL  INJURIES_FATAL  \\\n",
       "0        NaN                NaN             NaN             NaN   \n",
       "1        NaN                NaN             NaN             NaN   \n",
       "2        1.0                NaN             NaN             NaN   \n",
       "\n",
       "   INJURIES_INCAPACITATING  INJURIES_NON_INCAPACITATING  \\\n",
       "0                      NaN                          NaN   \n",
       "1                      NaN                          NaN   \n",
       "2                      NaN                          NaN   \n",
       "\n",
       "   INJURIES_REPORTED_NOT_EVIDENT  INJURIES_NO_INDICATION INJURIES_UNKNOWN  \\\n",
       "0                            NaN                     NaN              NaN   \n",
       "1                            NaN                     NaN              NaN   \n",
       "2                            NaN                     NaN              NaN   \n",
       "\n",
       "   CRASH_HOUR  CRASH_DAY_OF_WEEK  CRASH_MONTH   LATITUDE  LONGITUDE  \\\n",
       "0          22                  5            7  41.886140 -87.614274   \n",
       "1          10                  3            7  41.745549 -87.614670   \n",
       "2          17                  7            8  41.772004 -87.581234   \n",
       "\n",
       "                                   LOCATION  \n",
       "0    POINT (-87.614274106164 41.8861404879)  \n",
       "1  POINT (-87.614669906271 41.745549113377)  \n",
       "2   POINT (-87.58123401629 41.772004323752)  "
      ]
     },
     "execution_count": 35,
     "metadata": {},
     "output_type": "execute_result"
    }
   ],
   "source": [
    "data = pd.read_csv('../../data/trafficcrasheschicago.zip', parse_dates = ['CRASH_DATE'],\n",
    "                   dtype=dtypes, na_values = ['UNKNOWN', 'UNABLE TO DETERMINE'])\n",
    "data.head(3)"
   ]
  },
  {
   "cell_type": "markdown",
   "metadata": {
    "heading_collapsed": true
   },
   "source": [
    "## Cleanup <a name='cleanup'></a>"
   ]
  },
  {
   "cell_type": "markdown",
   "metadata": {
<<<<<<< HEAD
    "heading_collapsed": true,
    "hidden": true
=======
    "heading_collapsed": true
>>>>>>> kevin
   },
   "source": [
    "### Reduced Dataset For Counts <a name='reduced'></a>"
   ]
  },
  {
   "cell_type": "code",
<<<<<<< HEAD
   "execution_count": null,
   "metadata": {
    "hidden": true
   },
   "outputs": [],
   "source": []
=======
   "execution_count": 14,
   "metadata": {
    "ExecuteTime": {
     "end_time": "2020-03-04T20:17:06.602369Z",
     "start_time": "2020-03-04T20:16:51.820248Z"
    },
    "hidden": true
   },
   "outputs": [
    {
     "name": "stderr",
     "output_type": "stream",
     "text": [
      "/home/kevin/.local/lib/python3.7/site-packages/ipykernel_launcher.py:8: SettingWithCopyWarning: \n",
      "A value is trying to be set on a copy of a slice from a DataFrame.\n",
      "Try using .loc[row_indexer,col_indexer] = value instead\n",
      "\n",
      "See the caveats in the documentation: https://pandas.pydata.org/pandas-docs/stable/user_guide/indexing.html#returning-a-view-versus-a-copy\n",
      "  \n"
     ]
    },
    {
     "data": {
      "text/html": [
       "<div>\n",
       "<style scoped>\n",
       "    .dataframe tbody tr th:only-of-type {\n",
       "        vertical-align: middle;\n",
       "    }\n",
       "\n",
       "    .dataframe tbody tr th {\n",
       "        vertical-align: top;\n",
       "    }\n",
       "\n",
       "    .dataframe thead th {\n",
       "        text-align: right;\n",
       "    }\n",
       "</style>\n",
       "<table border=\"1\" class=\"dataframe\">\n",
       "  <thead>\n",
       "    <tr style=\"text-align: right;\">\n",
       "      <th></th>\n",
       "      <th></th>\n",
       "      <th>BEAT_OF_OCCURRENCE</th>\n",
       "      <th>RD_NO</th>\n",
       "    </tr>\n",
       "    <tr>\n",
       "      <th>CRASH_DATE</th>\n",
       "      <th>SHIFT</th>\n",
       "      <th></th>\n",
       "      <th></th>\n",
       "    </tr>\n",
       "  </thead>\n",
       "  <tbody>\n",
       "    <tr>\n",
       "      <th rowspan=\"5\" valign=\"top\">2013-03-03</th>\n",
       "      <th>1</th>\n",
       "      <td>1011</td>\n",
       "      <td>0</td>\n",
       "    </tr>\n",
       "    <tr>\n",
       "      <th>1</th>\n",
       "      <td>1012</td>\n",
       "      <td>0</td>\n",
       "    </tr>\n",
       "    <tr>\n",
       "      <th>1</th>\n",
       "      <td>1013</td>\n",
       "      <td>0</td>\n",
       "    </tr>\n",
       "    <tr>\n",
       "      <th>1</th>\n",
       "      <td>1014</td>\n",
       "      <td>0</td>\n",
       "    </tr>\n",
       "    <tr>\n",
       "      <th>1</th>\n",
       "      <td>1021</td>\n",
       "      <td>0</td>\n",
       "    </tr>\n",
       "    <tr>\n",
       "      <th>...</th>\n",
       "      <th>...</th>\n",
       "      <td>...</td>\n",
       "      <td>...</td>\n",
       "    </tr>\n",
       "    <tr>\n",
       "      <th rowspan=\"5\" valign=\"top\">2020-01-17</th>\n",
       "      <th>3</th>\n",
       "      <td>931</td>\n",
       "      <td>0</td>\n",
       "    </tr>\n",
       "    <tr>\n",
       "      <th>3</th>\n",
       "      <td>932</td>\n",
       "      <td>0</td>\n",
       "    </tr>\n",
       "    <tr>\n",
       "      <th>3</th>\n",
       "      <td>933</td>\n",
       "      <td>0</td>\n",
       "    </tr>\n",
       "    <tr>\n",
       "      <th>3</th>\n",
       "      <td>934</td>\n",
       "      <td>0</td>\n",
       "    </tr>\n",
       "    <tr>\n",
       "      <th>3</th>\n",
       "      <td>935</td>\n",
       "      <td>0</td>\n",
       "    </tr>\n",
       "  </tbody>\n",
       "</table>\n",
       "<p>2064864 rows × 2 columns</p>\n",
       "</div>"
      ],
      "text/plain": [
       "                 BEAT_OF_OCCURRENCE  RD_NO\n",
       "CRASH_DATE SHIFT                          \n",
       "2013-03-03 1                   1011      0\n",
       "           1                   1012      0\n",
       "           1                   1013      0\n",
       "           1                   1014      0\n",
       "           1                   1021      0\n",
       "...                             ...    ...\n",
       "2020-01-17 3                    931      0\n",
       "           3                    932      0\n",
       "           3                    933      0\n",
       "           3                    934      0\n",
       "           3                    935      0\n",
       "\n",
       "[2064864 rows x 2 columns]"
      ]
     },
     "execution_count": 14,
     "metadata": {},
     "output_type": "execute_result"
    }
   ],
   "source": [
    "# dataset used for HMM\n",
    "data_reduced = data[['RD_NO', 'CRASH_DATE', 'CRASH_HOUR', 'BEAT_OF_OCCURRENCE']]\n",
    "\n",
    "# Get Shift The Accident Occurred On\n",
    "shifts = dict.fromkeys(list((range(0,7)))+[22, 23], 1)\n",
    "shifts.update(dict.fromkeys(list(range(7, 15)), 2))\n",
    "shifts.update(dict.fromkeys(list(range(15, 22)),3))\n",
    "data_reduced['SHIFT'] = data['CRASH_HOUR'].map(shifts)\n",
    "data_reduced = data_reduced.drop('CRASH_HOUR', axis=1)\n",
    "\n",
    "# Resample Time Series\n",
    "data_reduced = data_reduced.groupby([pd.Grouper(key='CRASH_DATE', freq='D'), 'SHIFT', 'BEAT_OF_OCCURRENCE']).agg({'RD_NO': 'size'})\n",
    "data_reduced = data_reduced.reset_index().set_index(['CRASH_DATE', 'SHIFT'])\n",
    "data_reduced"
   ]
>>>>>>> kevin
  },
  {
   "cell_type": "markdown",
   "metadata": {
    "hidden": true
   },
   "source": [
    "### Inspection <a name='firstpass'></a>"
   ]
  },
  {
   "cell_type": "markdown",
   "metadata": {
    "hidden": true
   },
   "source": [
    "We begin by checking our assumptions for the variables in the dataset. We will begin with the numeric data."
   ]
  },
  {
   "cell_type": "code",
   "execution_count": 33,
   "metadata": {
    "ExecuteTime": {
<<<<<<< HEAD
     "end_time": "2020-02-29T01:43:36.922137Z",
     "start_time": "2020-02-29T01:43:36.774925Z"
    },
    "hidden": true
=======
     "end_time": "2020-03-04T21:03:22.801062Z",
     "start_time": "2020-03-04T21:03:22.655713Z"
    }
>>>>>>> kevin
   },
   "outputs": [
    {
     "data": {
      "text/html": [
       "<div>\n",
       "<style scoped>\n",
       "    .dataframe tbody tr th:only-of-type {\n",
       "        vertical-align: middle;\n",
       "    }\n",
       "\n",
       "    .dataframe tbody tr th {\n",
       "        vertical-align: top;\n",
       "    }\n",
       "\n",
       "    .dataframe thead th {\n",
       "        text-align: right;\n",
       "    }\n",
       "</style>\n",
       "<table border=\"1\" class=\"dataframe\">\n",
       "  <thead>\n",
       "    <tr style=\"text-align: right;\">\n",
       "      <th></th>\n",
       "      <th>POSTED_SPEED_LIMIT</th>\n",
       "      <th>LANE_CNT</th>\n",
       "      <th>STREET_NO</th>\n",
       "      <th>NUM_UNITS</th>\n",
       "      <th>INJURIES_TOTAL</th>\n",
       "      <th>INJURIES_FATAL</th>\n",
       "      <th>INJURIES_INCAPACITATING</th>\n",
       "      <th>INJURIES_NON_INCAPACITATING</th>\n",
       "      <th>INJURIES_REPORTED_NOT_EVIDENT</th>\n",
       "      <th>INJURIES_NO_INDICATION</th>\n",
       "      <th>CRASH_HOUR</th>\n",
       "      <th>CRASH_DAY_OF_WEEK</th>\n",
       "      <th>CRASH_MONTH</th>\n",
       "      <th>LATITUDE</th>\n",
       "      <th>LONGITUDE</th>\n",
       "    </tr>\n",
       "  </thead>\n",
       "  <tbody>\n",
       "    <tr>\n",
       "      <th>count</th>\n",
       "      <td>377630.000000</td>\n",
       "      <td>1.985490e+05</td>\n",
       "      <td>377630.000000</td>\n",
       "      <td>376172.000000</td>\n",
       "      <td>375403.000000</td>\n",
       "      <td>375403.000000</td>\n",
       "      <td>375403.00000</td>\n",
       "      <td>375403.000000</td>\n",
       "      <td>375403.000000</td>\n",
       "      <td>375403.000000</td>\n",
       "      <td>377630.000000</td>\n",
       "      <td>377630.000000</td>\n",
       "      <td>377630.000000</td>\n",
       "      <td>375627.000000</td>\n",
       "      <td>375627.000000</td>\n",
       "    </tr>\n",
       "    <tr>\n",
       "      <th>mean</th>\n",
       "      <td>28.244758</td>\n",
       "      <td>1.335580e+01</td>\n",
       "      <td>3580.168864</td>\n",
       "      <td>2.020719</td>\n",
       "      <td>0.163496</td>\n",
       "      <td>0.000882</td>\n",
       "      <td>0.01773</td>\n",
       "      <td>0.089070</td>\n",
       "      <td>0.055815</td>\n",
       "      <td>2.025890</td>\n",
       "      <td>13.180062</td>\n",
       "      <td>4.121158</td>\n",
       "      <td>6.909215</td>\n",
       "      <td>41.858157</td>\n",
       "      <td>-87.671980</td>\n",
       "    </tr>\n",
       "    <tr>\n",
       "      <th>std</th>\n",
       "      <td>6.662733</td>\n",
       "      <td>2.965030e+03</td>\n",
       "      <td>2906.301644</td>\n",
       "      <td>0.416721</td>\n",
       "      <td>0.523002</td>\n",
       "      <td>0.032261</td>\n",
       "      <td>0.15566</td>\n",
       "      <td>0.383158</td>\n",
       "      <td>0.301246</td>\n",
       "      <td>1.160255</td>\n",
       "      <td>5.455058</td>\n",
       "      <td>1.965998</td>\n",
       "      <td>3.454893</td>\n",
       "      <td>0.358471</td>\n",
       "      <td>0.731744</td>\n",
       "    </tr>\n",
       "    <tr>\n",
       "      <th>min</th>\n",
       "      <td>0.000000</td>\n",
       "      <td>0.000000e+00</td>\n",
       "      <td>0.000000</td>\n",
       "      <td>1.000000</td>\n",
       "      <td>0.000000</td>\n",
       "      <td>0.000000</td>\n",
       "      <td>0.00000</td>\n",
       "      <td>0.000000</td>\n",
       "      <td>0.000000</td>\n",
       "      <td>0.000000</td>\n",
       "      <td>0.000000</td>\n",
       "      <td>1.000000</td>\n",
       "      <td>1.000000</td>\n",
       "      <td>0.000000</td>\n",
       "      <td>-87.934014</td>\n",
       "    </tr>\n",
       "    <tr>\n",
       "      <th>25%</th>\n",
       "      <td>30.000000</td>\n",
       "      <td>2.000000e+00</td>\n",
       "      <td>1199.000000</td>\n",
       "      <td>2.000000</td>\n",
       "      <td>0.000000</td>\n",
       "      <td>0.000000</td>\n",
       "      <td>0.00000</td>\n",
       "      <td>0.000000</td>\n",
       "      <td>0.000000</td>\n",
       "      <td>1.000000</td>\n",
       "      <td>9.000000</td>\n",
       "      <td>2.000000</td>\n",
       "      <td>4.000000</td>\n",
       "      <td>41.788098</td>\n",
       "      <td>-87.720411</td>\n",
       "    </tr>\n",
       "    <tr>\n",
       "      <th>50%</th>\n",
       "      <td>30.000000</td>\n",
       "      <td>2.000000e+00</td>\n",
       "      <td>3100.000000</td>\n",
       "      <td>2.000000</td>\n",
       "      <td>0.000000</td>\n",
       "      <td>0.000000</td>\n",
       "      <td>0.00000</td>\n",
       "      <td>0.000000</td>\n",
       "      <td>0.000000</td>\n",
       "      <td>2.000000</td>\n",
       "      <td>14.000000</td>\n",
       "      <td>4.000000</td>\n",
       "      <td>7.000000</td>\n",
       "      <td>41.878217</td>\n",
       "      <td>-87.672417</td>\n",
       "    </tr>\n",
       "    <tr>\n",
       "      <th>75%</th>\n",
       "      <td>30.000000</td>\n",
       "      <td>4.000000e+00</td>\n",
       "      <td>5500.000000</td>\n",
       "      <td>2.000000</td>\n",
       "      <td>0.000000</td>\n",
       "      <td>0.000000</td>\n",
       "      <td>0.00000</td>\n",
       "      <td>0.000000</td>\n",
       "      <td>0.000000</td>\n",
       "      <td>2.000000</td>\n",
       "      <td>17.000000</td>\n",
       "      <td>6.000000</td>\n",
       "      <td>10.000000</td>\n",
       "      <td>41.924989</td>\n",
       "      <td>-87.632837</td>\n",
       "    </tr>\n",
       "    <tr>\n",
       "      <th>max</th>\n",
       "      <td>99.000000</td>\n",
       "      <td>1.191625e+06</td>\n",
       "      <td>451100.000000</td>\n",
       "      <td>18.000000</td>\n",
       "      <td>21.000000</td>\n",
       "      <td>3.000000</td>\n",
       "      <td>7.00000</td>\n",
       "      <td>21.000000</td>\n",
       "      <td>10.000000</td>\n",
       "      <td>61.000000</td>\n",
       "      <td>23.000000</td>\n",
       "      <td>7.000000</td>\n",
       "      <td>12.000000</td>\n",
       "      <td>42.022780</td>\n",
       "      <td>0.000000</td>\n",
       "    </tr>\n",
       "  </tbody>\n",
       "</table>\n",
       "</div>"
      ],
      "text/plain": [
       "       POSTED_SPEED_LIMIT      LANE_CNT      STREET_NO      NUM_UNITS  \\\n",
       "count       377630.000000  1.985490e+05  377630.000000  376172.000000   \n",
       "mean            28.244758  1.335580e+01    3580.168864       2.020719   \n",
       "std              6.662733  2.965030e+03    2906.301644       0.416721   \n",
       "min              0.000000  0.000000e+00       0.000000       1.000000   \n",
       "25%             30.000000  2.000000e+00    1199.000000       2.000000   \n",
       "50%             30.000000  2.000000e+00    3100.000000       2.000000   \n",
       "75%             30.000000  4.000000e+00    5500.000000       2.000000   \n",
       "max             99.000000  1.191625e+06  451100.000000      18.000000   \n",
       "\n",
       "       INJURIES_TOTAL  INJURIES_FATAL  INJURIES_INCAPACITATING  \\\n",
       "count   375403.000000   375403.000000             375403.00000   \n",
       "mean         0.163496        0.000882                  0.01773   \n",
       "std          0.523002        0.032261                  0.15566   \n",
       "min          0.000000        0.000000                  0.00000   \n",
       "25%          0.000000        0.000000                  0.00000   \n",
       "50%          0.000000        0.000000                  0.00000   \n",
       "75%          0.000000        0.000000                  0.00000   \n",
       "max         21.000000        3.000000                  7.00000   \n",
       "\n",
       "       INJURIES_NON_INCAPACITATING  INJURIES_REPORTED_NOT_EVIDENT  \\\n",
       "count                375403.000000                  375403.000000   \n",
       "mean                      0.089070                       0.055815   \n",
       "std                       0.383158                       0.301246   \n",
       "min                       0.000000                       0.000000   \n",
       "25%                       0.000000                       0.000000   \n",
       "50%                       0.000000                       0.000000   \n",
       "75%                       0.000000                       0.000000   \n",
       "max                      21.000000                      10.000000   \n",
       "\n",
       "       INJURIES_NO_INDICATION     CRASH_HOUR  CRASH_DAY_OF_WEEK  \\\n",
       "count           375403.000000  377630.000000      377630.000000   \n",
       "mean                 2.025890      13.180062           4.121158   \n",
       "std                  1.160255       5.455058           1.965998   \n",
       "min                  0.000000       0.000000           1.000000   \n",
       "25%                  1.000000       9.000000           2.000000   \n",
       "50%                  2.000000      14.000000           4.000000   \n",
       "75%                  2.000000      17.000000           6.000000   \n",
       "max                 61.000000      23.000000           7.000000   \n",
       "\n",
       "         CRASH_MONTH       LATITUDE      LONGITUDE  \n",
       "count  377630.000000  375627.000000  375627.000000  \n",
       "mean        6.909215      41.858157     -87.671980  \n",
       "std         3.454893       0.358471       0.731744  \n",
       "min         1.000000       0.000000     -87.934014  \n",
       "25%         4.000000      41.788098     -87.720411  \n",
       "50%         7.000000      41.878217     -87.672417  \n",
       "75%        10.000000      41.924989     -87.632837  \n",
       "max        12.000000      42.022780       0.000000  "
      ]
     },
     "execution_count": 33,
     "metadata": {},
     "output_type": "execute_result"
    }
   ],
   "source": [
    "data.describe()"
   ]
  },
  {
   "cell_type": "markdown",
   "metadata": {
    "hidden": true
   },
   "source": [
    "The posted speed limit variable contains nonsensical values, so we will have to clean that up. STREET_NO doesn't seem useful, so we will delete that column. NUM_UNITS and the remaining variables all have reasonable statistics except for LANE_CNT, LATITUDE, and LONGITUDE. For some reason, there are zero values for latitude and longitude. We should impute these values using the latitudes and longitudes of car accidents in the corresponding police beat. LANE_CNT has unreasonably large values, but it is believable that a crash could occur with 0 lanes if the crash occurred off the road. Given that we don't know the details of what 0 means, the safe bet is to leave it there. Most of the numeric variables have a significant right skew.\n",
    "\n",
    "Notice the lack of skew in the CRASH_MONTH and CRASH_DAY_OF_WEEK variables. This uniformity contradicts our expectations. There also appear to be lower accident rates during really early and late hours as we'd expect. "
   ]
  },
  {
   "cell_type": "code",
   "execution_count": 36,
   "metadata": {
    "ExecuteTime": {
     "end_time": "2020-03-04T21:04:08.801735Z",
     "start_time": "2020-03-04T21:04:08.703527Z"
    },
    "code_folding": [],
    "hidden": true
   },
   "outputs": [],
   "source": [
    "# Non-sensical peed limit Values replaced with nan. I've never seen a speed limit lower than 15.\n",
    "data['POSTED_SPEED_LIMIT'] = data['POSTED_SPEED_LIMIT'].apply(lambda x: x if x % 5 == 0 and x > 10 else np.nan)"
   ]
  },
  {
   "cell_type": "markdown",
   "metadata": {
    "hidden": true
   },
   "source": [
    "Now we turn to the categorical columns."
   ]
  },
  {
   "cell_type": "code",
   "execution_count": 37,
   "metadata": {
    "ExecuteTime": {
<<<<<<< HEAD
     "end_time": "2020-02-29T01:43:37.317638Z",
     "start_time": "2020-02-29T01:43:37.218726Z"
    },
    "hidden": true
=======
     "end_time": "2020-03-04T21:04:09.072959Z",
     "start_time": "2020-03-04T21:04:08.970866Z"
    }
>>>>>>> kevin
   },
   "outputs": [
    {
     "data": {
      "text/html": [
       "<div>\n",
       "<style scoped>\n",
       "    .dataframe tbody tr th:only-of-type {\n",
       "        vertical-align: middle;\n",
       "    }\n",
       "\n",
       "    .dataframe tbody tr th {\n",
       "        vertical-align: top;\n",
       "    }\n",
       "\n",
       "    .dataframe thead th {\n",
       "        text-align: right;\n",
       "    }\n",
       "</style>\n",
       "<table border=\"1\" class=\"dataframe\">\n",
       "  <thead>\n",
       "    <tr style=\"text-align: right;\">\n",
       "      <th></th>\n",
       "      <th>CRASH_DATE_EST_I</th>\n",
       "      <th>TRAFFIC_CONTROL_DEVICE</th>\n",
       "      <th>DEVICE_CONDITION</th>\n",
       "      <th>WEATHER_CONDITION</th>\n",
       "      <th>LIGHTING_CONDITION</th>\n",
       "      <th>FIRST_CRASH_TYPE</th>\n",
       "      <th>TRAFFICWAY_TYPE</th>\n",
       "      <th>ALIGNMENT</th>\n",
       "      <th>ROADWAY_SURFACE_COND</th>\n",
       "      <th>ROAD_DEFECT</th>\n",
       "      <th>REPORT_TYPE</th>\n",
       "      <th>CRASH_TYPE</th>\n",
       "      <th>INTERSECTION_RELATED_I</th>\n",
       "      <th>NOT_RIGHT_OF_WAY_I</th>\n",
       "      <th>HIT_AND_RUN_I</th>\n",
       "      <th>DAMAGE</th>\n",
       "      <th>PRIM_CONTRIBUTORY_CAUSE</th>\n",
       "      <th>SEC_CONTRIBUTORY_CAUSE</th>\n",
       "      <th>STREET_NAME</th>\n",
       "      <th>BEAT_OF_OCCURRENCE</th>\n",
       "      <th>PHOTOS_TAKEN_I</th>\n",
       "      <th>STATEMENTS_TAKEN_I</th>\n",
       "      <th>DOORING_I</th>\n",
       "      <th>WORK_ZONE_I</th>\n",
       "      <th>WORK_ZONE_TYPE</th>\n",
       "      <th>WORKERS_PRESENT_I</th>\n",
       "      <th>INJURIES_UNKNOWN</th>\n",
       "    </tr>\n",
       "  </thead>\n",
       "  <tbody>\n",
       "    <tr>\n",
       "      <th>count</th>\n",
       "      <td>28062</td>\n",
       "      <td>365350</td>\n",
       "      <td>357105</td>\n",
       "      <td>361341</td>\n",
       "      <td>364004</td>\n",
       "      <td>377630</td>\n",
       "      <td>373464</td>\n",
       "      <td>377630</td>\n",
       "      <td>352837</td>\n",
       "      <td>323824</td>\n",
       "      <td>368884</td>\n",
       "      <td>377630</td>\n",
       "      <td>83409</td>\n",
       "      <td>17401</td>\n",
       "      <td>104899</td>\n",
       "      <td>377630</td>\n",
       "      <td>241111</td>\n",
       "      <td>243525</td>\n",
       "      <td>377629</td>\n",
       "      <td>377626</td>\n",
       "      <td>4781</td>\n",
       "      <td>7624</td>\n",
       "      <td>1264</td>\n",
       "      <td>2646</td>\n",
       "      <td>1825</td>\n",
       "      <td>617</td>\n",
       "      <td>375403</td>\n",
       "    </tr>\n",
       "    <tr>\n",
       "      <th>unique</th>\n",
       "      <td>2</td>\n",
       "      <td>18</td>\n",
       "      <td>7</td>\n",
       "      <td>10</td>\n",
       "      <td>5</td>\n",
       "      <td>18</td>\n",
       "      <td>19</td>\n",
       "      <td>6</td>\n",
       "      <td>6</td>\n",
       "      <td>6</td>\n",
       "      <td>2</td>\n",
       "      <td>2</td>\n",
       "      <td>2</td>\n",
       "      <td>2</td>\n",
       "      <td>2</td>\n",
       "      <td>3</td>\n",
       "      <td>39</td>\n",
       "      <td>39</td>\n",
       "      <td>1536</td>\n",
       "      <td>274</td>\n",
       "      <td>2</td>\n",
       "      <td>2</td>\n",
       "      <td>2</td>\n",
       "      <td>2</td>\n",
       "      <td>3</td>\n",
       "      <td>2</td>\n",
       "      <td>1</td>\n",
       "    </tr>\n",
       "    <tr>\n",
       "      <th>top</th>\n",
       "      <td>Y</td>\n",
       "      <td>NO CONTROLS</td>\n",
       "      <td>NO CONTROLS</td>\n",
       "      <td>CLEAR</td>\n",
       "      <td>DAYLIGHT</td>\n",
       "      <td>REAR END</td>\n",
       "      <td>NOT DIVIDED</td>\n",
       "      <td>STRAIGHT AND LEVEL</td>\n",
       "      <td>DRY</td>\n",
       "      <td>NO DEFECTS</td>\n",
       "      <td>NOT ON SCENE (DESK REPORT)</td>\n",
       "      <td>NO INJURY / DRIVE AWAY</td>\n",
       "      <td>Y</td>\n",
       "      <td>Y</td>\n",
       "      <td>Y</td>\n",
       "      <td>OVER $1,500</td>\n",
       "      <td>FAILING TO YIELD RIGHT-OF-WAY</td>\n",
       "      <td>NOT APPLICABLE</td>\n",
       "      <td>WESTERN AVE</td>\n",
       "      <td>1834</td>\n",
       "      <td>Y</td>\n",
       "      <td>Y</td>\n",
       "      <td>Y</td>\n",
       "      <td>Y</td>\n",
       "      <td>CONSTRUCTION</td>\n",
       "      <td>Y</td>\n",
       "      <td>0</td>\n",
       "    </tr>\n",
       "    <tr>\n",
       "      <th>freq</th>\n",
       "      <td>24356</td>\n",
       "      <td>217363</td>\n",
       "      <td>219376</td>\n",
       "      <td>298351</td>\n",
       "      <td>247573</td>\n",
       "      <td>93358</td>\n",
       "      <td>171443</td>\n",
       "      <td>368274</td>\n",
       "      <td>282400</td>\n",
       "      <td>314890</td>\n",
       "      <td>229370</td>\n",
       "      <td>291294</td>\n",
       "      <td>79491</td>\n",
       "      <td>15902</td>\n",
       "      <td>100355</td>\n",
       "      <td>212956</td>\n",
       "      <td>42400</td>\n",
       "      <td>150493</td>\n",
       "      <td>10320</td>\n",
       "      <td>5546</td>\n",
       "      <td>3729</td>\n",
       "      <td>6200</td>\n",
       "      <td>864</td>\n",
       "      <td>2100</td>\n",
       "      <td>1499</td>\n",
       "      <td>554</td>\n",
       "      <td>375403</td>\n",
       "    </tr>\n",
       "  </tbody>\n",
       "</table>\n",
       "</div>"
      ],
      "text/plain": [
       "       CRASH_DATE_EST_I TRAFFIC_CONTROL_DEVICE DEVICE_CONDITION  \\\n",
       "count             28062                 365350           357105   \n",
       "unique                2                     18                7   \n",
       "top                   Y            NO CONTROLS      NO CONTROLS   \n",
       "freq              24356                 217363           219376   \n",
       "\n",
       "       WEATHER_CONDITION LIGHTING_CONDITION FIRST_CRASH_TYPE TRAFFICWAY_TYPE  \\\n",
       "count             361341             364004           377630          373464   \n",
       "unique                10                  5               18              19   \n",
       "top                CLEAR           DAYLIGHT         REAR END     NOT DIVIDED   \n",
       "freq              298351             247573            93358          171443   \n",
       "\n",
       "                 ALIGNMENT ROADWAY_SURFACE_COND ROAD_DEFECT  \\\n",
       "count               377630               352837      323824   \n",
       "unique                   6                    6           6   \n",
       "top     STRAIGHT AND LEVEL                  DRY  NO DEFECTS   \n",
       "freq                368274               282400      314890   \n",
       "\n",
       "                       REPORT_TYPE              CRASH_TYPE  \\\n",
       "count                       368884                  377630   \n",
       "unique                           2                       2   \n",
       "top     NOT ON SCENE (DESK REPORT)  NO INJURY / DRIVE AWAY   \n",
       "freq                        229370                  291294   \n",
       "\n",
       "       INTERSECTION_RELATED_I NOT_RIGHT_OF_WAY_I HIT_AND_RUN_I       DAMAGE  \\\n",
       "count                   83409              17401        104899       377630   \n",
       "unique                      2                  2             2            3   \n",
       "top                         Y                  Y             Y  OVER $1,500   \n",
       "freq                    79491              15902        100355       212956   \n",
       "\n",
       "              PRIM_CONTRIBUTORY_CAUSE SEC_CONTRIBUTORY_CAUSE  STREET_NAME  \\\n",
       "count                          241111                 243525       377629   \n",
       "unique                             39                     39         1536   \n",
       "top     FAILING TO YIELD RIGHT-OF-WAY         NOT APPLICABLE  WESTERN AVE   \n",
       "freq                            42400                 150493        10320   \n",
       "\n",
       "       BEAT_OF_OCCURRENCE PHOTOS_TAKEN_I STATEMENTS_TAKEN_I DOORING_I  \\\n",
       "count              377626           4781               7624      1264   \n",
       "unique                274              2                  2         2   \n",
       "top                  1834              Y                  Y         Y   \n",
       "freq                 5546           3729               6200       864   \n",
       "\n",
       "       WORK_ZONE_I WORK_ZONE_TYPE WORKERS_PRESENT_I INJURIES_UNKNOWN  \n",
       "count         2646           1825               617           375403  \n",
       "unique           2              3                 2                1  \n",
       "top              Y   CONSTRUCTION                 Y                0  \n",
       "freq          2100           1499               554           375403  "
      ]
     },
     "execution_count": 37,
     "metadata": {},
     "output_type": "execute_result"
    }
   ],
   "source": [
    "data.describe(include=['category'])"
   ]
  },
  {
   "cell_type": "markdown",
   "metadata": {
    "hidden": true
   },
   "source": [
    "We can immediately see several problems. CRASH_DATE_EST_I, DOORING_I, PHOTOS_TAKEN_I, STATEMENTS_TAKEN_I, NOT_RIGHT_OF_WAY_I, INTERSECTION_RELATED_I and the WORK_ variables have an incredible amount of missing data and INJURIES_UNKNOWN only has one unique value. We should throw away INJURIES_UNKNOWN and consider throwing away CRASH_DATE_EST_I and the WORK_ variables.\n",
    "\n",
<<<<<<< HEAD
    "There is some target leakage in CRASH_TYPE because some of its values describe whether there was an injury or not, so we should start combining factors so that our model doesn't know whether there were injuries ahead of time while fitting. "
   ]
  },
  {
   "cell_type": "markdown",
   "metadata": {
    "hidden": true
   },
   "source": [
    "### Missing Data Analysis <a name='missing'></a>"
=======
    "We can see that there is another unidentified pseudo-missing value labeled 'UNABLE TO DETERMINE' under the PRIM_CONTRIBUTORY_CAUSE variable. When this notebook is finalized, we will adjust the read_csv function to account for this at the beginning. "
>>>>>>> kevin
   ]
  },
  {
   "cell_type": "markdown",
   "metadata": {
    "hidden": true
   },
   "source": [
    "The missingness by variable can be viewed more explicitly below."
   ]
  },
  {
   "cell_type": "code",
   "execution_count": 7,
   "metadata": {
    "ExecuteTime": {
     "end_time": "2020-03-04T19:41:12.185832Z",
     "start_time": "2020-03-04T19:41:12.100636Z"
    },
    "code_folding": [],
    "hidden": true
   },
   "outputs": [
    {
     "data": {
      "text/plain": [
       "RD_NO                            0.000000\n",
       "CRASH_DATE_EST_I                 0.925689\n",
       "CRASH_DATE                       0.000000\n",
       "POSTED_SPEED_LIMIT               0.046315\n",
       "TRAFFIC_CONTROL_DEVICE           0.032519\n",
       "DEVICE_CONDITION                 0.054352\n",
       "WEATHER_CONDITION                0.043135\n",
       "LIGHTING_CONDITION               0.036083\n",
       "FIRST_CRASH_TYPE                 0.000000\n",
       "TRAFFICWAY_TYPE                  0.011032\n",
       "LANE_CNT                         0.474223\n",
       "ALIGNMENT                        0.000000\n",
       "ROADWAY_SURFACE_COND             0.065654\n",
       "ROAD_DEFECT                      0.142483\n",
       "REPORT_TYPE                      0.023160\n",
       "CRASH_TYPE                       0.000000\n",
       "INTERSECTION_RELATED_I           0.779125\n",
       "NOT_RIGHT_OF_WAY_I               0.953921\n",
       "HIT_AND_RUN_I                    0.722218\n",
       "DAMAGE                           0.000000\n",
       "DATE_POLICE_NOTIFIED             0.000000\n",
       "PRIM_CONTRIBUTORY_CAUSE          0.361515\n",
       "SEC_CONTRIBUTORY_CAUSE           0.355123\n",
       "STREET_NO                        0.000000\n",
       "STREET_DIRECTION                 0.000005\n",
       "STREET_NAME                      0.000003\n",
       "BEAT_OF_OCCURRENCE               0.000011\n",
       "PHOTOS_TAKEN_I                   0.987339\n",
       "STATEMENTS_TAKEN_I               0.979811\n",
       "DOORING_I                        0.996653\n",
       "WORK_ZONE_I                      0.992993\n",
       "WORK_ZONE_TYPE                   0.995167\n",
       "WORKERS_PRESENT_I                0.998366\n",
       "NUM_UNITS                        0.003861\n",
       "MOST_SEVERE_INJURY               0.005916\n",
       "INJURIES_TOTAL                   0.005897\n",
       "INJURIES_FATAL                   0.005897\n",
       "INJURIES_INCAPACITATING          0.005897\n",
       "INJURIES_NON_INCAPACITATING      0.005897\n",
       "INJURIES_REPORTED_NOT_EVIDENT    0.005897\n",
       "INJURIES_NO_INDICATION           0.005897\n",
       "INJURIES_UNKNOWN                 0.005897\n",
       "CRASH_HOUR                       0.000000\n",
       "CRASH_DAY_OF_WEEK                0.000000\n",
       "CRASH_MONTH                      0.000000\n",
       "LATITUDE                         0.005304\n",
       "LONGITUDE                        0.005304\n",
       "LOCATION                         0.005304\n",
       "dtype: float64"
      ]
     },
     "execution_count": 7,
     "metadata": {},
     "output_type": "execute_result"
    }
   ],
   "source": [
    "# Missingness by  variable\n",
    "missing_by_var = data.isnull().sum()/data.shape[0]\n",
    "missing_by_var"
   ]
  },
  {
   "cell_type": "markdown",
   "metadata": {
    "hidden": true
   },
   "source": [
    "## Pipeline <a name='pipeline'></a>"
   ]
  },
  {
   "cell_type": "code",
   "execution_count": 145,
   "metadata": {
    "ExecuteTime": {
     "end_time": "2020-03-04T22:38:21.268743Z",
     "start_time": "2020-03-04T22:38:21.239225Z"
    }
   },
   "outputs": [],
   "source": [
    "# Remove variables with too many missing values\n",
    "data_new = data[['WEATHER_CONDITION', 'ROADWAY_SURFACE_COND', 'CRASH_DATE',\n",
    "                 'BEAT_OF_OCCURRENCE', 'CRASH_TYPE', 'CRASH_DAY_OF_WEEK', 'CRASH_HOUR', \n",
    "                 'CRASH_MONTH', 'STREET_NAME', 'FIRST_CRASH_TYPE',\n",
    "                 'TRAFFICWAY_TYPE', 'LIGHTING_CONDITION']]\n",
    "\n",
    "# Validation and Test sets\n",
    "validation_set = data_new.query('CRASH_DATE >= \\'2018-01-01\\' and CRASH_DATE < \\'2019-09-01\\'')\n",
    "test_set = data_new.query('CRASH_DATE >= \\'2019-09-01\\'')\n",
    "validation_set = validation_set.set_index('CRASH_DATE')\n",
    "test_set = test_set.set_index('CRASH_DATE')\n"
   ]
  },
  {
   "cell_type": "code",
   "execution_count": 146,
   "metadata": {
    "ExecuteTime": {
     "end_time": "2020-03-04T22:38:24.477637Z",
     "start_time": "2020-03-04T22:38:24.473119Z"
    }
   },
   "outputs": [],
   "source": [
    "# Number of available cores for fitting\n",
    "cores = cpu_count() - 1\n",
    "\n",
    "# Pipelines\n",
    "\n",
    "num_pipe = Pipeline(steps=[\n",
    "    ('num_impute', SimpleImputer(strategy='mean')),\n",
    "    ('scale', StandardScaler())\n",
    "])\n",
    "\n",
    "cat_pipe = Pipeline(steps=[\n",
    "    ('cat_impute', SimpleImputer(strategy='constant', fill_value='missing')),\n",
    "    ('one_hot', OneHotEncoder(handle_unknown='ignore')),\n",
    "    ('scale', StandardScaler(with_mean=False))\n",
    "])\n"
   ]
  },
  {
   "cell_type": "markdown",
   "metadata": {},
   "source": [
    "## Injury Classification"
   ]
  },
  {
   "cell_type": "markdown",
   "metadata": {},
   "source": [
    "### Preprocessor and Target"
   ]
  },
  {
   "cell_type": "code",
   "execution_count": 147,
   "metadata": {
<<<<<<< HEAD
    "heading_collapsed": true,
    "hidden": true
=======
    "ExecuteTime": {
     "end_time": "2020-03-04T22:38:26.301848Z",
     "start_time": "2020-03-04T22:38:26.277134Z"
    }
>>>>>>> kevin
   },
   "outputs": [],
   "source": [
    "target = validation_set['CRASH_TYPE']\n",
    "features = validation_set.drop('CRASH_TYPE', axis=1)\n",
    "numerical_vars = list(features.select_dtypes(['int64', 'float64']))\n",
    "categorical_vars = list(features.select_dtypes(['category']))\n",
    "\n",
    "preprocessor = ColumnTransformer(transformers=[\n",
    "    ('num', num_pipe, numerical_vars),\n",
    "    ('cat', cat_pipe, categorical_vars)\n",
    "])"
   ]
  },
  {
   "cell_type": "markdown",
   "metadata": {},
   "source": [
    "### Model 1: Logistic Regression <a name='logistic'></a>"
   ]
  },
  {
   "cell_type": "code",
   "execution_count": 148,
   "metadata": {
    "ExecuteTime": {
     "end_time": "2020-03-04T22:38:30.241621Z",
     "start_time": "2020-03-04T22:38:30.236835Z"
    }
   },
   "outputs": [],
   "source": [
    "clf = Pipeline(steps=[\n",
    "    ('preprocess', preprocessor),\n",
    "    ('undersample', RandomUnderSampler()),\n",
    "    ('classifier', LogisticRegression(max_iter = 1000))\n",
    "])\n",
    "\n",
    "logistic_grid = {'classifier__C': np.linspace(0, 5, 100)}\n",
    "tss = TimeSeriesSplit(n_splits = 5)\n",
    "\n",
    "gs = GridSearchCV(clf, param_grid=logistic_grid, cv=tss, n_jobs=cores, scoring='neg_log_loss')"
   ]
  },
  {
   "cell_type": "code",
   "execution_count": 149,
   "metadata": {
    "ExecuteTime": {
     "end_time": "2020-03-04T22:39:25.491294Z",
     "start_time": "2020-03-04T22:38:30.763232Z"
    }
   },
   "outputs": [
    {
     "data": {
      "text/plain": [
       "GridSearchCV(cv=TimeSeriesSplit(max_train_size=None, n_splits=5),\n",
       "             error_score=nan,\n",
       "             estimator=Pipeline(memory=None,\n",
       "                                steps=[('preprocess',\n",
       "                                        ColumnTransformer(n_jobs=None,\n",
       "                                                          remainder='drop',\n",
       "                                                          sparse_threshold=0.3,\n",
       "                                                          transformer_weights=None,\n",
       "                                                          transformers=[('num',\n",
       "                                                                         Pipeline(memory=None,\n",
       "                                                                                  steps=[('num_impute',\n",
       "                                                                                          SimpleImputer(add_indicator=False,\n",
       "                                                                                                        copy=True,\n",
       "                                                                                                        fill_value=None,\n",
       "                                                                                                        mi...\n",
       "       3.78787879, 3.83838384, 3.88888889, 3.93939394, 3.98989899,\n",
       "       4.04040404, 4.09090909, 4.14141414, 4.19191919, 4.24242424,\n",
       "       4.29292929, 4.34343434, 4.39393939, 4.44444444, 4.49494949,\n",
       "       4.54545455, 4.5959596 , 4.64646465, 4.6969697 , 4.74747475,\n",
       "       4.7979798 , 4.84848485, 4.8989899 , 4.94949495, 5.        ])},\n",
       "             pre_dispatch='2*n_jobs', refit=True, return_train_score=False,\n",
       "             scoring='neg_log_loss', verbose=0)"
      ]
     },
     "execution_count": 149,
     "metadata": {},
     "output_type": "execute_result"
    }
   ],
   "source": [
    "gs.fit(features, target)"
   ]
  },
  {
   "cell_type": "code",
   "execution_count": 150,
   "metadata": {
    "ExecuteTime": {
     "end_time": "2020-03-04T22:39:30.654655Z",
     "start_time": "2020-03-04T22:39:29.637367Z"
    }
   },
   "outputs": [
    {
     "name": "stdout",
     "output_type": "stream",
     "text": [
      "                                  precision    recall  f1-score   support\n",
      "\n",
      "INJURY AND / OR TOW DUE TO CRASH       0.45      0.72      0.56     11914\n",
      "          NO INJURY / DRIVE AWAY       0.86      0.67      0.75     30804\n",
      "\n",
      "                        accuracy                           0.68     42718\n",
      "                       macro avg       0.66      0.69      0.65     42718\n",
      "                    weighted avg       0.75      0.68      0.70     42718\n",
      "\n"
     ]
    }
   ],
   "source": [
    "best_process = gs.best_estimator_\n",
    "best_model = gs.best_estimator_[1]\n",
    "target_test = test_set['CRASH_TYPE']\n",
    "X_test = test_set.drop('CRASH_TYPE', axis=1)\n",
    "pred = best_process.predict(X_test)\n",
    "\n",
    "print(classification_report(target_test, pred))"
   ]
  },
  {
   "cell_type": "markdown",
   "metadata": {},
   "source": [
    "### Model 2: Random Forest Classifier"
   ]
  },
  {
   "cell_type": "code",
   "execution_count": 157,
   "metadata": {
    "ExecuteTime": {
     "end_time": "2020-03-04T22:46:12.507492Z",
     "start_time": "2020-03-04T22:46:12.499936Z"
    }
   },
   "outputs": [],
   "source": [
    "clf = Pipeline(steps=[\n",
    "    ('preprocess', preprocessor),\n",
    "    ('undersample', RandomUnderSampler()),\n",
    "    ('classifier', RandomForestClassifier(criterion='entropy'))\n",
    "])\n",
    "\n",
    "tss = TimeSeriesSplit(n_splits = 5)\n",
    "\n",
    "\n",
    "param_dists = {'classifier__min_samples_split': randint(150, 300), \n",
    "               'classifier__bootstrap': [True, False],\n",
    "               'classifier__min_samples_leaf': randint(80, 190)}\n",
    "\n",
    "rfrs = RandomizedSearchCV(clf, param_distributions=param_dists, cv=tss, n_jobs=cores, scoring='neg_log_loss',\n",
    "                         n_iter=100)"
   ]
  },
  {
   "cell_type": "code",
   "execution_count": 158,
   "metadata": {
    "ExecuteTime": {
     "end_time": "2020-03-04T22:50:13.347232Z",
     "start_time": "2020-03-04T22:46:17.181534Z"
    }
   },
   "outputs": [
    {
     "data": {
      "text/plain": [
       "RandomizedSearchCV(cv=TimeSeriesSplit(max_train_size=None, n_splits=5),\n",
       "                   error_score=nan,\n",
       "                   estimator=Pipeline(memory=None,\n",
       "                                      steps=[('preprocess',\n",
       "                                              ColumnTransformer(n_jobs=None,\n",
       "                                                                remainder='drop',\n",
       "                                                                sparse_threshold=0.3,\n",
       "                                                                transformer_weights=None,\n",
       "                                                                transformers=[('num',\n",
       "                                                                               Pipeline(memory=None,\n",
       "                                                                                        steps=[('num_impute',\n",
       "                                                                                                SimpleImputer(add_indicator=False,\n",
       "                                                                                                              copy=True,\n",
       "                                                                                                              fill_value=N...\n",
       "                   param_distributions={'classifier__bootstrap': [True, False],\n",
       "                                        'classifier__min_samples_leaf': <scipy.stats._distn_infrastructure.rv_frozen object at 0x7ff0d9147e50>,\n",
       "                                        'classifier__min_samples_split': <scipy.stats._distn_infrastructure.rv_frozen object at 0x7ff0666325d0>},\n",
       "                   pre_dispatch='2*n_jobs', random_state=None, refit=True,\n",
       "                   return_train_score=False, scoring='neg_log_loss', verbose=0)"
      ]
     },
     "execution_count": 158,
     "metadata": {},
     "output_type": "execute_result"
    }
   ],
   "source": [
    "rfrs.fit(features, target)"
   ]
  },
  {
   "cell_type": "code",
   "execution_count": 159,
   "metadata": {
    "ExecuteTime": {
     "end_time": "2020-03-04T22:50:18.580478Z",
     "start_time": "2020-03-04T22:50:17.147639Z"
    }
   },
   "outputs": [
    {
     "name": "stdout",
     "output_type": "stream",
     "text": [
      "                                  precision    recall  f1-score   support\n",
      "\n",
      "INJURY AND / OR TOW DUE TO CRASH       0.43      0.75      0.54     11914\n",
      "          NO INJURY / DRIVE AWAY       0.86      0.61      0.72     30804\n",
      "\n",
      "                        accuracy                           0.65     42718\n",
      "                       macro avg       0.65      0.68      0.63     42718\n",
      "                    weighted avg       0.74      0.65      0.67     42718\n",
      "\n"
     ]
    }
   ],
   "source": [
    "best_process = rfrs.best_estimator_\n",
    "best_model = rfrs.best_estimator_[1]\n",
    "pred = best_process.predict(X_test)\n",
    "\n",
<<<<<<< HEAD
    "What we can definitely make of this is that missingness strongly depends on time and stakeholders should investigate these charts and wonder to themselves why the real police officers broke away from expectations in the way they did."
   ]
  },
  {
   "cell_type": "markdown",
   "metadata": {
    "hidden": true
   },
   "source": [
    "#### Missingness Across Space <a name='spacemissing'></a>"
=======
    "print(classification_report(target_test, pred))"
>>>>>>> kevin
   ]
  },
  {
   "cell_type": "markdown",
<<<<<<< HEAD
   "metadata": {
    "hidden": true
   },
   "source": []
  },
  {
   "cell_type": "markdown",
   "metadata": {
    "hidden": true
   },
=======
   "metadata": {},
>>>>>>> kevin
   "source": [
    "### Model 3: Naive Bayes"
   ]
  },
  {
   "cell_type": "code",
   "execution_count": 173,
   "metadata": {
    "ExecuteTime": {
<<<<<<< HEAD
     "end_time": "2020-02-29T01:55:57.020726Z",
     "start_time": "2020-02-29T01:55:57.008334Z"
    },
    "hidden": true
   },
   "outputs": [
    {
     "ename": "AttributeError",
     "evalue": "module 'seaborn' has no attribute 'subplot'",
     "output_type": "error",
     "traceback": [
      "\u001b[0;31m---------------------------------------------------------------------------\u001b[0m",
      "\u001b[0;31mAttributeError\u001b[0m                            Traceback (most recent call last)",
      "\u001b[0;32m<ipython-input-35-9ef79b24ce48>\u001b[0m in \u001b[0;36m<module>\u001b[0;34m\u001b[0m\n\u001b[0;32m----> 1\u001b[0;31m \u001b[0msns\u001b[0m\u001b[0;34m.\u001b[0m\u001b[0msubplot\u001b[0m\u001b[0;34m(\u001b[0m\u001b[0;34m)\u001b[0m\u001b[0;34m\u001b[0m\u001b[0;34m\u001b[0m\u001b[0m\n\u001b[0m",
      "\u001b[0;31mAttributeError\u001b[0m: module 'seaborn' has no attribute 'subplot'"
     ]
    }
   ],
   "source": [
    "# Let's track the cumulative percentage missingness across time for all of the missing variables to see\n",
    "# if there is a time component to the missingness.\n",
    "\n"
   ]
  },
  {
   "cell_type": "markdown",
   "metadata": {
    "heading_collapsed": true,
    "hidden": true
   },
   "source": [
    "#### Accidents with Injuries <a name='injuryaccidentsmissing'></a>"
   ]
  },
  {
   "cell_type": "markdown",
   "metadata": {
    "heading_collapsed": true,
    "hidden": true
   },
   "source": [
    "#### Number of Fatal Injuries <a name='fatalaccidentmissing'></a>"
   ]
  },
  {
   "cell_type": "markdown",
   "metadata": {
    "heading_collapsed": true,
    "hidden": true
   },
   "source": [
    "### Second Pass <a name='secondpass'></a>"
   ]
  },
  {
   "cell_type": "markdown",
   "metadata": {},
   "source": [
    "## Variable Importance"
   ]
  },
  {
   "cell_type": "markdown",
   "metadata": {},
   "source": [
    "### Logistic Regression <a name='logistic'></a>"
   ]
  },
  {
   "cell_type": "code",
   "execution_count": 60,
   "metadata": {},
   "outputs": [],
   "source": [
    "# Number of available cores for fitting\n",
    "from multiprocessing import cpu_count\n",
    "cores = cpu_count() - 1\n",
    "\n",
    "# Create Target Variable\n",
    "data['INJURIES'] = data['INJURIES_TOTAL'].apply(lambda x: 1 if x>0 else 0)\n",
    "\n",
    "# Validation and Test sets\n",
    "validation_set = data.query('CRASH_DATE >= \\'2019-01-01\\' and CRASH_DATE < \\'2019-11-01\\'')\n",
    "test_set = data.query('CRASH_DATE >= \\'2019-11-01\\'')\n",
    "validation_set = validation_set.set_index('CRASH_DATE')\n",
    "test_set = test_set.set_index('CRASH_DATE')\n",
=======
     "end_time": "2020-03-04T23:14:11.424641Z",
     "start_time": "2020-03-04T23:14:11.418101Z"
    }
   },
   "outputs": [],
   "source": [
    "# From https://stackoverflow.com/questions/28384680/scikit-learns-pipeline-a-sparse-matrix-was-passed-but-dense-data-is-required\n",
    "class DenseTransformer(TransformerMixin):\n",
>>>>>>> kevin
    "\n",
    "    def fit(self, X, y=None, **fit_params):\n",
    "        return self\n",
    "\n",
    "    def transform(self, X, y=None, **fit_params):\n",
    "        return X.todense()\n",
    "\n",
    "# GaussianNB would not take sparse matrix, so have to convert to dense\n",
    "\n",
    "clf = Pipeline(steps=[\n",
    "    ('preprocess', preprocessor),\n",
    "    ('to_densemat', DenseTransformer()),\n",
    "    ('undersample', RandomUnderSampler()),\n",
    "    ('classifier', GaussianNB())\n",
    "])\n",
    "\n",
    "tss = TimeSeriesSplit(n_splits = 5)\n",
    "\n",
    "\n",
    "gs2 = GridSearchCV(clf, param_grid={'classifier__priors': [None]}, cv=tss, n_jobs=cores, scoring='neg_log_loss')\n"
   ]
  },
  {
   "cell_type": "code",
   "execution_count": 174,
   "metadata": {
    "ExecuteTime": {
     "end_time": "2020-03-04T23:14:21.703117Z",
     "start_time": "2020-03-04T23:14:13.506354Z"
    }
   },
   "outputs": [
    {
     "data": {
      "text/plain": [
       "GridSearchCV(cv=TimeSeriesSplit(max_train_size=None, n_splits=5),\n",
       "             error_score=nan,\n",
       "             estimator=Pipeline(memory=None,\n",
       "                                steps=[('preprocess',\n",
       "                                        ColumnTransformer(n_jobs=None,\n",
       "                                                          remainder='drop',\n",
       "                                                          sparse_threshold=0.3,\n",
       "                                                          transformer_weights=None,\n",
       "                                                          transformers=[('num',\n",
       "                                                                         Pipeline(memory=None,\n",
       "                                                                                  steps=[('num_impute',\n",
       "                                                                                          SimpleImputer(add_indicator=False,\n",
       "                                                                                                        copy=True,\n",
       "                                                                                                        fill_value=None,\n",
       "                                                                                                        mi...\n",
       "                                        <__main__.DenseTransformer object at 0x7ff067fb9bd0>),\n",
       "                                       ('undersample',\n",
       "                                        RandomUnderSampler(random_state=None,\n",
       "                                                           replacement=False,\n",
       "                                                           sampling_strategy='auto')),\n",
       "                                       ('classifier',\n",
       "                                        GaussianNB(priors=None,\n",
       "                                                   var_smoothing=1e-09))],\n",
       "                                verbose=False),\n",
       "             iid='deprecated', n_jobs=11,\n",
       "             param_grid={'classifier__priors': [None]}, pre_dispatch='2*n_jobs',\n",
       "             refit=True, return_train_score=False, scoring='neg_log_loss',\n",
       "             verbose=0)"
      ]
     },
     "execution_count": 174,
     "metadata": {},
     "output_type": "execute_result"
    }
   ],
   "source": [
    "gs2.fit(features, target)"
   ]
  },
  {
   "cell_type": "code",
   "execution_count": 176,
   "metadata": {
    "ExecuteTime": {
     "end_time": "2020-03-04T23:15:53.612809Z",
     "start_time": "2020-03-04T23:15:51.943931Z"
    }
   },
   "outputs": [
    {
     "name": "stdout",
     "output_type": "stream",
     "text": [
      "                                  precision    recall  f1-score   support\n",
      "\n",
      "INJURY AND / OR TOW DUE TO CRASH       0.28      0.96      0.44     11914\n",
      "          NO INJURY / DRIVE AWAY       0.82      0.07      0.12     30804\n",
      "\n",
      "                        accuracy                           0.32     42718\n",
      "                       macro avg       0.55      0.51      0.28     42718\n",
      "                    weighted avg       0.67      0.32      0.21     42718\n",
      "\n"
     ]
    }
   ],
   "source": [
    "best_process = gs2.best_estimator_\n",
    "best_model = gs2.best_estimator_[1]\n",
    "pred = best_process.predict(X_test)\n",
    "\n",
    "print(classification_report(target_test, pred))"
   ]
  },
  {
   "cell_type": "markdown",
   "metadata": {},
   "source": [
    "## Number of Accidents"
   ]
  },
  {
   "cell_type": "code",
   "execution_count": null,
   "metadata": {},
   "outputs": [],
   "source": []
  }
 ],
 "metadata": {
  "celltoolbar": "Initialization Cell",
  "kernelspec": {
   "display_name": "Python 3",
   "language": "python",
   "name": "python3"
  },
  "language_info": {
   "codemirror_mode": {
    "name": "ipython",
    "version": 3
   },
   "file_extension": ".py",
   "mimetype": "text/x-python",
   "name": "python",
   "nbconvert_exporter": "python",
   "pygments_lexer": "ipython3",
   "version": "3.7.6"
  },
  "varInspector": {
   "cols": {
    "lenName": 16,
    "lenType": 16,
    "lenVar": 40
   },
   "kernels_config": {
    "python": {
     "delete_cmd_postfix": "",
     "delete_cmd_prefix": "del ",
     "library": "var_list.py",
     "varRefreshCmd": "print(var_dic_list())"
    },
    "r": {
     "delete_cmd_postfix": ") ",
     "delete_cmd_prefix": "rm(",
     "library": "var_list.r",
     "varRefreshCmd": "cat(var_dic_list()) "
    }
   },
   "types_to_exclude": [
    "module",
    "function",
    "builtin_function_or_method",
    "instance",
    "_Feature"
   ],
   "window_display": false
  }
 },
 "nbformat": 4,
 "nbformat_minor": 4
}
