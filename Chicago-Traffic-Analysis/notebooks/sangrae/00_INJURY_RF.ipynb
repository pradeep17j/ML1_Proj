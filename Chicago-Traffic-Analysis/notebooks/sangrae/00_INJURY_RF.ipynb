{
 "cells": [
  {
   "cell_type": "markdown",
   "metadata": {},
   "source": [
    "# Feature selection with Random Forest\n",
    "\n",
    "We are using the feature selection from feature importance of basic RF clf. \n",
    "https://www.kaggle.com/willkoehrsen/introduction-to-feature-selection"
   ]
  },
  {
   "cell_type": "code",
   "execution_count": 379,
   "metadata": {},
   "outputs": [],
   "source": [
    "# pandas and numpy for data manipulation\n",
    "import pandas as pd\n",
    "import numpy as np\n",
    "\n",
    "# featuretools for automated feature engineering\n",
    "import featuretools as ft\n",
    "\n",
    "# matplotlit and seaborn for visualizations\n",
    "import matplotlib.pyplot as plt\n",
    "plt.rcParams['font.size'] = 22\n",
    "import seaborn as sns\n",
    "\n",
    "# Suppress warnings from pandas\n",
    "import warnings\n",
    "warnings.filterwarnings('ignore')\n",
    "\n",
    "# modeling \n",
    "from sklearn.ensemble import RandomForestClassifier\n",
    "\n",
    "# utilities\n",
    "from sklearn.model_selection import train_test_split\n",
    "from sklearn.model_selection import KFold\n",
    "from sklearn.metrics import roc_auc_score\n",
    "from sklearn.preprocessing import LabelEncoder\n",
    "\n",
    "# memory management\n",
    "import gc\n",
    "\n",
    "# others\n",
    "import os\n"
   ]
  },
  {
   "cell_type": "code",
   "execution_count": 380,
   "metadata": {},
   "outputs": [
    {
     "name": "stdout",
     "output_type": "stream",
     "text": [
      "['00_injury_GBM_onehot_corr90_dropped.csv', '00_injury_GBM_onehot_corr90_dropped_special.csv', '00_injury_onehot_corr90_dropped_replace_missing.csv', '00_injury_onehot_corr90_dropped_replace_missing_special.csv', '00_injury_train_people_vehicle_corrs_removed.csv', '00_injury_train_people_vehicle_corrs_removed.zip', '00_injury_train_people_vehicle_missing_70.csv', 'cumsum.csv', 'injury_onehot_corr90_dropped.csv', 'injury_train_people_vehicle_corrs_removed.csv', 'injury_train_people_vehicle_corrs_removed.zip', 'injury_train_people_vehicle_raw.csv', 'Traffic_Crashes_-_Crashes.csv', 'Traffic_Crashes_-_People.csv', 'Traffic_Crashes_-_Vehicles.csv', 'train_control_damage.csv', 'train_new.csv', 'train_people_vehicle_corrs_removed.csv', 'train_people_vehicle_raw.csv']\n"
     ]
    }
   ],
   "source": [
    "print(os.listdir(\"../input\"))"
   ]
  },
  {
   "cell_type": "code",
   "execution_count": 381,
   "metadata": {},
   "outputs": [
    {
     "name": "stdout",
     "output_type": "stream",
     "text": [
      "<class 'pandas.core.frame.DataFrame'>\n",
      "RangeIndex: 207101 entries, 0 to 207100\n",
      "Columns: 122 entries, RD_NO to vehicle_VEHICLE_TYPE_VAN/MINI-VAN_count\n",
      "dtypes: float64(94), int64(3), object(25)\n",
      "memory usage: 192.8+ MB\n"
     ]
    },
    {
     "data": {
      "text/plain": [
       "(207101, 122)"
      ]
     },
     "execution_count": 381,
     "metadata": {},
     "output_type": "execute_result"
    }
   ],
   "source": [
    "#read in data\n",
    "categoricals = ['CRASH_DATE_EST_I', 'TRAFFIC_CONTROL_DEVICE', 'DEVICE_CONDITION',\n",
    "                'WEATHER_CONDITION', 'LIGHTING_CONDITION', 'TRAFFICWAY_TYPE',\n",
    "                'FIRST_CRASH_TYPE', 'TRAFFICWAY_TYPE', 'ROADWAY_SURFACE_COND',\n",
    "                'ROAD_DEFECT', 'REPORT_TYPE', 'CRASH_TYPE', 'INTERSECTION_RELATED_I',\n",
    "                'NOT_RIGHT_OF_WAY_I', 'HIT_AND_RUN_I', 'DAMAGE', 'PRIM_CONTRIBUTORY_CAUSE',\n",
    "                'SEC_CONTRIBUTORY_CAUSE', 'STREET_DIRECTION', 'STREET_NAME', 'PHOTOS_TAKEN_I',\n",
    "                'STATEMENTS_TAKEN_I', 'DOORING_I', 'WORK_ZONE_I', 'WORK_ZONE_TYPE', 'WORKERS_PRESENT_I',\n",
    "                'MOST_SEVERE_INJURY', 'BEAT_OF_OCCURRENCE','CRASH_HOUR','CRASH_MONTH','CRASH_DAY_OF_WEEK','YEAR']\n",
    "dtypes = dict.fromkeys(categoricals, 'object')\n",
    "\n",
    "\n",
    "train = pd.read_csv('../input/00_injury_train_people_vehicle_corrs_removed.csv', dtype = dtypes)\n",
    "train.info()\n",
    "train.shape"
   ]
  },
  {
   "cell_type": "markdown",
   "metadata": {},
   "source": [
    "There are 207,101 rows and 122 features in the dataset"
   ]
  },
  {
   "cell_type": "code",
   "execution_count": 382,
   "metadata": {},
   "outputs": [],
   "source": [
    "# save the ids and target\n",
    "train_labels = train['TARGET']\n",
    "train_ids = train['RD_NO']"
   ]
  },
  {
   "cell_type": "markdown",
   "metadata": {},
   "source": [
    "we are dropping some variables with date and IDs and location information which are not important for modeling."
   ]
  },
  {
   "cell_type": "code",
   "execution_count": 383,
   "metadata": {},
   "outputs": [
    {
     "data": {
      "text/plain": [
       "(207101, 111)"
      ]
     },
     "execution_count": 383,
     "metadata": {},
     "output_type": "execute_result"
    }
   ],
   "source": [
    "# drop variables (REPORT_TYPE, FIRST_CRASH_TYPE: data leakage)\n",
    "drop_columns =  ['RD_NO','REPORT_TYPE','FIRST_CRASH_TYPE','CRASH_DATE', 'DATE_POLICE_NOTIFIED', 'STREET_NAME','STREET_NO','BEAT_OF_OCCURRENCE','LATITUDE','LONGITUDE','LOCATION']\n",
    "train = train.drop(columns=drop_columns)\n",
    "train.shape"
   ]
  },
  {
   "cell_type": "code",
   "execution_count": 384,
   "metadata": {},
   "outputs": [
    {
     "data": {
      "text/plain": [
       "(207101, 111)"
      ]
     },
     "execution_count": 384,
     "metadata": {},
     "output_type": "execute_result"
    }
   ],
   "source": [
    "train.shape"
   ]
  },
  {
   "cell_type": "markdown",
   "metadata": {},
   "source": [
    "Our data set is composed of categorical variables the most. it will take some time to run the model due to the size of features. "
   ]
  },
  {
   "cell_type": "markdown",
   "metadata": {},
   "source": [
    "## Remove Collinear Variables\n",
    "\n",
    "Since we haved added some numrical features from other tables. We are checing collinearity.\n",
    "Collinear variables can decrease the model's availablility to learn, decrease model interpretability, and decrease generalization performance on the test set. Clearly, these are three things we want to increase, so removing collinear variables is a useful step. We will establish an admittedly arbitrary threshold for removing collinear variables, and then remove one out of any pair of variables that is above that threshold."
   ]
  },
  {
   "cell_type": "code",
   "execution_count": 385,
   "metadata": {},
   "outputs": [
    {
     "data": {
      "text/html": [
       "<div>\n",
       "<style scoped>\n",
       "    .dataframe tbody tr th:only-of-type {\n",
       "        vertical-align: middle;\n",
       "    }\n",
       "\n",
       "    .dataframe tbody tr th {\n",
       "        vertical-align: top;\n",
       "    }\n",
       "\n",
       "    .dataframe thead th {\n",
       "        text-align: right;\n",
       "    }\n",
       "</style>\n",
       "<table border=\"1\" class=\"dataframe\">\n",
       "  <thead>\n",
       "    <tr style=\"text-align: right;\">\n",
       "      <th></th>\n",
       "      <th>POSTED_SPEED_LIMIT</th>\n",
       "      <th>NUM_UNITS</th>\n",
       "      <th>people_counts</th>\n",
       "      <th>TARGET</th>\n",
       "      <th>people_AGE_count</th>\n",
       "      <th>people_AGE_mean</th>\n",
       "      <th>SEX_F_count</th>\n",
       "      <th>SEX_F_count_norm</th>\n",
       "      <th>SEX_M_count</th>\n",
       "      <th>SEX_M_count_norm</th>\n",
       "      <th>...</th>\n",
       "      <th>vehicle_VEHICLE_TYPE_OTHER VEHICLE WITH TRAILER_count</th>\n",
       "      <th>vehicle_VEHICLE_TYPE_PASSENGER_count</th>\n",
       "      <th>vehicle_VEHICLE_TYPE_PICKUP_count</th>\n",
       "      <th>vehicle_VEHICLE_TYPE_SNOWMOBILE_count</th>\n",
       "      <th>vehicle_VEHICLE_TYPE_SPORT UTILITY VEHICLE (SUV)_count</th>\n",
       "      <th>vehicle_VEHICLE_TYPE_TRACTOR W/ SEMI-TRAILER_count</th>\n",
       "      <th>vehicle_VEHICLE_TYPE_TRACTOR W/O SEMI-TRAILER_count</th>\n",
       "      <th>vehicle_VEHICLE_TYPE_TRUCK - SINGLE UNIT_count</th>\n",
       "      <th>vehicle_VEHICLE_TYPE_UNKNOWN/NA_count</th>\n",
       "      <th>vehicle_VEHICLE_TYPE_VAN/MINI-VAN_count</th>\n",
       "    </tr>\n",
       "  </thead>\n",
       "  <tbody>\n",
       "    <tr>\n",
       "      <th>POSTED_SPEED_LIMIT</th>\n",
       "      <td>1.000000</td>\n",
       "      <td>0.049491</td>\n",
       "      <td>0.118641</td>\n",
       "      <td>0.103594</td>\n",
       "      <td>0.136088</td>\n",
       "      <td>0.039065</td>\n",
       "      <td>0.065305</td>\n",
       "      <td>0.026112</td>\n",
       "      <td>0.115151</td>\n",
       "      <td>0.065009</td>\n",
       "      <td>...</td>\n",
       "      <td>0.002673</td>\n",
       "      <td>0.072215</td>\n",
       "      <td>0.009332</td>\n",
       "      <td>0.001294</td>\n",
       "      <td>0.007552</td>\n",
       "      <td>0.008286</td>\n",
       "      <td>0.003318</td>\n",
       "      <td>0.016044</td>\n",
       "      <td>0.061501</td>\n",
       "      <td>0.009958</td>\n",
       "    </tr>\n",
       "    <tr>\n",
       "      <th>NUM_UNITS</th>\n",
       "      <td>0.049491</td>\n",
       "      <td>1.000000</td>\n",
       "      <td>0.213388</td>\n",
       "      <td>0.104067</td>\n",
       "      <td>0.178914</td>\n",
       "      <td>0.033915</td>\n",
       "      <td>0.117653</td>\n",
       "      <td>0.017728</td>\n",
       "      <td>0.139384</td>\n",
       "      <td>0.017419</td>\n",
       "      <td>...</td>\n",
       "      <td>0.000756</td>\n",
       "      <td>0.398321</td>\n",
       "      <td>0.060508</td>\n",
       "      <td>0.000295</td>\n",
       "      <td>0.108460</td>\n",
       "      <td>0.040797</td>\n",
       "      <td>0.006118</td>\n",
       "      <td>0.011399</td>\n",
       "      <td>0.056225</td>\n",
       "      <td>0.075619</td>\n",
       "    </tr>\n",
       "    <tr>\n",
       "      <th>people_counts</th>\n",
       "      <td>0.118641</td>\n",
       "      <td>0.213388</td>\n",
       "      <td>1.000000</td>\n",
       "      <td>0.123914</td>\n",
       "      <td>0.732453</td>\n",
       "      <td>0.149559</td>\n",
       "      <td>0.615640</td>\n",
       "      <td>0.182377</td>\n",
       "      <td>0.586406</td>\n",
       "      <td>0.053648</td>\n",
       "      <td>...</td>\n",
       "      <td>0.005240</td>\n",
       "      <td>0.143978</td>\n",
       "      <td>0.003001</td>\n",
       "      <td>0.003878</td>\n",
       "      <td>0.069928</td>\n",
       "      <td>0.031596</td>\n",
       "      <td>0.004289</td>\n",
       "      <td>0.026141</td>\n",
       "      <td>0.187885</td>\n",
       "      <td>0.038532</td>\n",
       "    </tr>\n",
       "    <tr>\n",
       "      <th>TARGET</th>\n",
       "      <td>0.103594</td>\n",
       "      <td>0.104067</td>\n",
       "      <td>0.123914</td>\n",
       "      <td>1.000000</td>\n",
       "      <td>0.212941</td>\n",
       "      <td>0.094599</td>\n",
       "      <td>0.081108</td>\n",
       "      <td>0.028287</td>\n",
       "      <td>0.108621</td>\n",
       "      <td>0.056674</td>\n",
       "      <td>...</td>\n",
       "      <td>0.010524</td>\n",
       "      <td>0.073465</td>\n",
       "      <td>0.006498</td>\n",
       "      <td>0.002789</td>\n",
       "      <td>0.012298</td>\n",
       "      <td>0.017096</td>\n",
       "      <td>0.002676</td>\n",
       "      <td>0.033919</td>\n",
       "      <td>0.119476</td>\n",
       "      <td>0.000366</td>\n",
       "    </tr>\n",
       "    <tr>\n",
       "      <th>people_AGE_count</th>\n",
       "      <td>0.136088</td>\n",
       "      <td>0.178914</td>\n",
       "      <td>0.732453</td>\n",
       "      <td>0.212941</td>\n",
       "      <td>1.000000</td>\n",
       "      <td>0.172456</td>\n",
       "      <td>0.528030</td>\n",
       "      <td>0.232781</td>\n",
       "      <td>0.532504</td>\n",
       "      <td>0.171365</td>\n",
       "      <td>...</td>\n",
       "      <td>0.008511</td>\n",
       "      <td>0.195517</td>\n",
       "      <td>0.015933</td>\n",
       "      <td>0.003306</td>\n",
       "      <td>0.063535</td>\n",
       "      <td>0.001863</td>\n",
       "      <td>0.007087</td>\n",
       "      <td>0.004612</td>\n",
       "      <td>0.338849</td>\n",
       "      <td>0.034794</td>\n",
       "    </tr>\n",
       "  </tbody>\n",
       "</table>\n",
       "<p>5 rows × 94 columns</p>\n",
       "</div>"
      ],
      "text/plain": [
       "                    POSTED_SPEED_LIMIT  NUM_UNITS  people_counts    TARGET  \\\n",
       "POSTED_SPEED_LIMIT            1.000000   0.049491       0.118641  0.103594   \n",
       "NUM_UNITS                     0.049491   1.000000       0.213388  0.104067   \n",
       "people_counts                 0.118641   0.213388       1.000000  0.123914   \n",
       "TARGET                        0.103594   0.104067       0.123914  1.000000   \n",
       "people_AGE_count              0.136088   0.178914       0.732453  0.212941   \n",
       "\n",
       "                    people_AGE_count  people_AGE_mean  SEX_F_count  \\\n",
       "POSTED_SPEED_LIMIT          0.136088         0.039065     0.065305   \n",
       "NUM_UNITS                   0.178914         0.033915     0.117653   \n",
       "people_counts               0.732453         0.149559     0.615640   \n",
       "TARGET                      0.212941         0.094599     0.081108   \n",
       "people_AGE_count            1.000000         0.172456     0.528030   \n",
       "\n",
       "                    SEX_F_count_norm  SEX_M_count  SEX_M_count_norm  ...  \\\n",
       "POSTED_SPEED_LIMIT          0.026112     0.115151          0.065009  ...   \n",
       "NUM_UNITS                   0.017728     0.139384          0.017419  ...   \n",
       "people_counts               0.182377     0.586406          0.053648  ...   \n",
       "TARGET                      0.028287     0.108621          0.056674  ...   \n",
       "people_AGE_count            0.232781     0.532504          0.171365  ...   \n",
       "\n",
       "                    vehicle_VEHICLE_TYPE_OTHER VEHICLE WITH TRAILER_count  \\\n",
       "POSTED_SPEED_LIMIT                                           0.002673       \n",
       "NUM_UNITS                                                    0.000756       \n",
       "people_counts                                                0.005240       \n",
       "TARGET                                                       0.010524       \n",
       "people_AGE_count                                             0.008511       \n",
       "\n",
       "                    vehicle_VEHICLE_TYPE_PASSENGER_count  \\\n",
       "POSTED_SPEED_LIMIT                              0.072215   \n",
       "NUM_UNITS                                       0.398321   \n",
       "people_counts                                   0.143978   \n",
       "TARGET                                          0.073465   \n",
       "people_AGE_count                                0.195517   \n",
       "\n",
       "                    vehicle_VEHICLE_TYPE_PICKUP_count  \\\n",
       "POSTED_SPEED_LIMIT                           0.009332   \n",
       "NUM_UNITS                                    0.060508   \n",
       "people_counts                                0.003001   \n",
       "TARGET                                       0.006498   \n",
       "people_AGE_count                             0.015933   \n",
       "\n",
       "                    vehicle_VEHICLE_TYPE_SNOWMOBILE_count  \\\n",
       "POSTED_SPEED_LIMIT                               0.001294   \n",
       "NUM_UNITS                                        0.000295   \n",
       "people_counts                                    0.003878   \n",
       "TARGET                                           0.002789   \n",
       "people_AGE_count                                 0.003306   \n",
       "\n",
       "                    vehicle_VEHICLE_TYPE_SPORT UTILITY VEHICLE (SUV)_count  \\\n",
       "POSTED_SPEED_LIMIT                                           0.007552        \n",
       "NUM_UNITS                                                    0.108460        \n",
       "people_counts                                                0.069928        \n",
       "TARGET                                                       0.012298        \n",
       "people_AGE_count                                             0.063535        \n",
       "\n",
       "                    vehicle_VEHICLE_TYPE_TRACTOR W/ SEMI-TRAILER_count  \\\n",
       "POSTED_SPEED_LIMIT                                           0.008286    \n",
       "NUM_UNITS                                                    0.040797    \n",
       "people_counts                                                0.031596    \n",
       "TARGET                                                       0.017096    \n",
       "people_AGE_count                                             0.001863    \n",
       "\n",
       "                    vehicle_VEHICLE_TYPE_TRACTOR W/O SEMI-TRAILER_count  \\\n",
       "POSTED_SPEED_LIMIT                                           0.003318     \n",
       "NUM_UNITS                                                    0.006118     \n",
       "people_counts                                                0.004289     \n",
       "TARGET                                                       0.002676     \n",
       "people_AGE_count                                             0.007087     \n",
       "\n",
       "                    vehicle_VEHICLE_TYPE_TRUCK - SINGLE UNIT_count  \\\n",
       "POSTED_SPEED_LIMIT                                        0.016044   \n",
       "NUM_UNITS                                                 0.011399   \n",
       "people_counts                                             0.026141   \n",
       "TARGET                                                    0.033919   \n",
       "people_AGE_count                                          0.004612   \n",
       "\n",
       "                    vehicle_VEHICLE_TYPE_UNKNOWN/NA_count  \\\n",
       "POSTED_SPEED_LIMIT                               0.061501   \n",
       "NUM_UNITS                                        0.056225   \n",
       "people_counts                                    0.187885   \n",
       "TARGET                                           0.119476   \n",
       "people_AGE_count                                 0.338849   \n",
       "\n",
       "                    vehicle_VEHICLE_TYPE_VAN/MINI-VAN_count  \n",
       "POSTED_SPEED_LIMIT                                 0.009958  \n",
       "NUM_UNITS                                          0.075619  \n",
       "people_counts                                      0.038532  \n",
       "TARGET                                             0.000366  \n",
       "people_AGE_count                                   0.034794  \n",
       "\n",
       "[5 rows x 94 columns]"
      ]
     },
     "execution_count": 385,
     "metadata": {},
     "output_type": "execute_result"
    }
   ],
   "source": [
    "# Threshold for removing correlated variables\n",
    "threshold = 0.9\n",
    "\n",
    "# Absolute value correlation matrix\n",
    "corr_matrix = train.corr().abs()\n",
    "corr_matrix.head()"
   ]
  },
  {
   "cell_type": "code",
   "execution_count": 386,
   "metadata": {},
   "outputs": [
    {
     "data": {
      "text/html": [
       "<div>\n",
       "<style scoped>\n",
       "    .dataframe tbody tr th:only-of-type {\n",
       "        vertical-align: middle;\n",
       "    }\n",
       "\n",
       "    .dataframe tbody tr th {\n",
       "        vertical-align: top;\n",
       "    }\n",
       "\n",
       "    .dataframe thead th {\n",
       "        text-align: right;\n",
       "    }\n",
       "</style>\n",
       "<table border=\"1\" class=\"dataframe\">\n",
       "  <thead>\n",
       "    <tr style=\"text-align: right;\">\n",
       "      <th></th>\n",
       "      <th>POSTED_SPEED_LIMIT</th>\n",
       "      <th>NUM_UNITS</th>\n",
       "      <th>people_counts</th>\n",
       "      <th>TARGET</th>\n",
       "      <th>people_AGE_count</th>\n",
       "      <th>people_AGE_mean</th>\n",
       "      <th>SEX_F_count</th>\n",
       "      <th>SEX_F_count_norm</th>\n",
       "      <th>SEX_M_count</th>\n",
       "      <th>SEX_M_count_norm</th>\n",
       "      <th>...</th>\n",
       "      <th>vehicle_VEHICLE_TYPE_OTHER VEHICLE WITH TRAILER_count</th>\n",
       "      <th>vehicle_VEHICLE_TYPE_PASSENGER_count</th>\n",
       "      <th>vehicle_VEHICLE_TYPE_PICKUP_count</th>\n",
       "      <th>vehicle_VEHICLE_TYPE_SNOWMOBILE_count</th>\n",
       "      <th>vehicle_VEHICLE_TYPE_SPORT UTILITY VEHICLE (SUV)_count</th>\n",
       "      <th>vehicle_VEHICLE_TYPE_TRACTOR W/ SEMI-TRAILER_count</th>\n",
       "      <th>vehicle_VEHICLE_TYPE_TRACTOR W/O SEMI-TRAILER_count</th>\n",
       "      <th>vehicle_VEHICLE_TYPE_TRUCK - SINGLE UNIT_count</th>\n",
       "      <th>vehicle_VEHICLE_TYPE_UNKNOWN/NA_count</th>\n",
       "      <th>vehicle_VEHICLE_TYPE_VAN/MINI-VAN_count</th>\n",
       "    </tr>\n",
       "  </thead>\n",
       "  <tbody>\n",
       "    <tr>\n",
       "      <th>POSTED_SPEED_LIMIT</th>\n",
       "      <td>NaN</td>\n",
       "      <td>0.049491</td>\n",
       "      <td>0.118641</td>\n",
       "      <td>0.103594</td>\n",
       "      <td>0.136088</td>\n",
       "      <td>0.039065</td>\n",
       "      <td>0.065305</td>\n",
       "      <td>0.026112</td>\n",
       "      <td>0.115151</td>\n",
       "      <td>0.065009</td>\n",
       "      <td>...</td>\n",
       "      <td>0.002673</td>\n",
       "      <td>0.072215</td>\n",
       "      <td>0.009332</td>\n",
       "      <td>0.001294</td>\n",
       "      <td>0.007552</td>\n",
       "      <td>0.008286</td>\n",
       "      <td>0.003318</td>\n",
       "      <td>0.016044</td>\n",
       "      <td>0.061501</td>\n",
       "      <td>0.009958</td>\n",
       "    </tr>\n",
       "    <tr>\n",
       "      <th>NUM_UNITS</th>\n",
       "      <td>NaN</td>\n",
       "      <td>NaN</td>\n",
       "      <td>0.213388</td>\n",
       "      <td>0.104067</td>\n",
       "      <td>0.178914</td>\n",
       "      <td>0.033915</td>\n",
       "      <td>0.117653</td>\n",
       "      <td>0.017728</td>\n",
       "      <td>0.139384</td>\n",
       "      <td>0.017419</td>\n",
       "      <td>...</td>\n",
       "      <td>0.000756</td>\n",
       "      <td>0.398321</td>\n",
       "      <td>0.060508</td>\n",
       "      <td>0.000295</td>\n",
       "      <td>0.108460</td>\n",
       "      <td>0.040797</td>\n",
       "      <td>0.006118</td>\n",
       "      <td>0.011399</td>\n",
       "      <td>0.056225</td>\n",
       "      <td>0.075619</td>\n",
       "    </tr>\n",
       "    <tr>\n",
       "      <th>people_counts</th>\n",
       "      <td>NaN</td>\n",
       "      <td>NaN</td>\n",
       "      <td>NaN</td>\n",
       "      <td>0.123914</td>\n",
       "      <td>0.732453</td>\n",
       "      <td>0.149559</td>\n",
       "      <td>0.615640</td>\n",
       "      <td>0.182377</td>\n",
       "      <td>0.586406</td>\n",
       "      <td>0.053648</td>\n",
       "      <td>...</td>\n",
       "      <td>0.005240</td>\n",
       "      <td>0.143978</td>\n",
       "      <td>0.003001</td>\n",
       "      <td>0.003878</td>\n",
       "      <td>0.069928</td>\n",
       "      <td>0.031596</td>\n",
       "      <td>0.004289</td>\n",
       "      <td>0.026141</td>\n",
       "      <td>0.187885</td>\n",
       "      <td>0.038532</td>\n",
       "    </tr>\n",
       "    <tr>\n",
       "      <th>TARGET</th>\n",
       "      <td>NaN</td>\n",
       "      <td>NaN</td>\n",
       "      <td>NaN</td>\n",
       "      <td>NaN</td>\n",
       "      <td>0.212941</td>\n",
       "      <td>0.094599</td>\n",
       "      <td>0.081108</td>\n",
       "      <td>0.028287</td>\n",
       "      <td>0.108621</td>\n",
       "      <td>0.056674</td>\n",
       "      <td>...</td>\n",
       "      <td>0.010524</td>\n",
       "      <td>0.073465</td>\n",
       "      <td>0.006498</td>\n",
       "      <td>0.002789</td>\n",
       "      <td>0.012298</td>\n",
       "      <td>0.017096</td>\n",
       "      <td>0.002676</td>\n",
       "      <td>0.033919</td>\n",
       "      <td>0.119476</td>\n",
       "      <td>0.000366</td>\n",
       "    </tr>\n",
       "    <tr>\n",
       "      <th>people_AGE_count</th>\n",
       "      <td>NaN</td>\n",
       "      <td>NaN</td>\n",
       "      <td>NaN</td>\n",
       "      <td>NaN</td>\n",
       "      <td>NaN</td>\n",
       "      <td>0.172456</td>\n",
       "      <td>0.528030</td>\n",
       "      <td>0.232781</td>\n",
       "      <td>0.532504</td>\n",
       "      <td>0.171365</td>\n",
       "      <td>...</td>\n",
       "      <td>0.008511</td>\n",
       "      <td>0.195517</td>\n",
       "      <td>0.015933</td>\n",
       "      <td>0.003306</td>\n",
       "      <td>0.063535</td>\n",
       "      <td>0.001863</td>\n",
       "      <td>0.007087</td>\n",
       "      <td>0.004612</td>\n",
       "      <td>0.338849</td>\n",
       "      <td>0.034794</td>\n",
       "    </tr>\n",
       "  </tbody>\n",
       "</table>\n",
       "<p>5 rows × 94 columns</p>\n",
       "</div>"
      ],
      "text/plain": [
       "                    POSTED_SPEED_LIMIT  NUM_UNITS  people_counts    TARGET  \\\n",
       "POSTED_SPEED_LIMIT                 NaN   0.049491       0.118641  0.103594   \n",
       "NUM_UNITS                          NaN        NaN       0.213388  0.104067   \n",
       "people_counts                      NaN        NaN            NaN  0.123914   \n",
       "TARGET                             NaN        NaN            NaN       NaN   \n",
       "people_AGE_count                   NaN        NaN            NaN       NaN   \n",
       "\n",
       "                    people_AGE_count  people_AGE_mean  SEX_F_count  \\\n",
       "POSTED_SPEED_LIMIT          0.136088         0.039065     0.065305   \n",
       "NUM_UNITS                   0.178914         0.033915     0.117653   \n",
       "people_counts               0.732453         0.149559     0.615640   \n",
       "TARGET                      0.212941         0.094599     0.081108   \n",
       "people_AGE_count                 NaN         0.172456     0.528030   \n",
       "\n",
       "                    SEX_F_count_norm  SEX_M_count  SEX_M_count_norm  ...  \\\n",
       "POSTED_SPEED_LIMIT          0.026112     0.115151          0.065009  ...   \n",
       "NUM_UNITS                   0.017728     0.139384          0.017419  ...   \n",
       "people_counts               0.182377     0.586406          0.053648  ...   \n",
       "TARGET                      0.028287     0.108621          0.056674  ...   \n",
       "people_AGE_count            0.232781     0.532504          0.171365  ...   \n",
       "\n",
       "                    vehicle_VEHICLE_TYPE_OTHER VEHICLE WITH TRAILER_count  \\\n",
       "POSTED_SPEED_LIMIT                                           0.002673       \n",
       "NUM_UNITS                                                    0.000756       \n",
       "people_counts                                                0.005240       \n",
       "TARGET                                                       0.010524       \n",
       "people_AGE_count                                             0.008511       \n",
       "\n",
       "                    vehicle_VEHICLE_TYPE_PASSENGER_count  \\\n",
       "POSTED_SPEED_LIMIT                              0.072215   \n",
       "NUM_UNITS                                       0.398321   \n",
       "people_counts                                   0.143978   \n",
       "TARGET                                          0.073465   \n",
       "people_AGE_count                                0.195517   \n",
       "\n",
       "                    vehicle_VEHICLE_TYPE_PICKUP_count  \\\n",
       "POSTED_SPEED_LIMIT                           0.009332   \n",
       "NUM_UNITS                                    0.060508   \n",
       "people_counts                                0.003001   \n",
       "TARGET                                       0.006498   \n",
       "people_AGE_count                             0.015933   \n",
       "\n",
       "                    vehicle_VEHICLE_TYPE_SNOWMOBILE_count  \\\n",
       "POSTED_SPEED_LIMIT                               0.001294   \n",
       "NUM_UNITS                                        0.000295   \n",
       "people_counts                                    0.003878   \n",
       "TARGET                                           0.002789   \n",
       "people_AGE_count                                 0.003306   \n",
       "\n",
       "                    vehicle_VEHICLE_TYPE_SPORT UTILITY VEHICLE (SUV)_count  \\\n",
       "POSTED_SPEED_LIMIT                                           0.007552        \n",
       "NUM_UNITS                                                    0.108460        \n",
       "people_counts                                                0.069928        \n",
       "TARGET                                                       0.012298        \n",
       "people_AGE_count                                             0.063535        \n",
       "\n",
       "                    vehicle_VEHICLE_TYPE_TRACTOR W/ SEMI-TRAILER_count  \\\n",
       "POSTED_SPEED_LIMIT                                           0.008286    \n",
       "NUM_UNITS                                                    0.040797    \n",
       "people_counts                                                0.031596    \n",
       "TARGET                                                       0.017096    \n",
       "people_AGE_count                                             0.001863    \n",
       "\n",
       "                    vehicle_VEHICLE_TYPE_TRACTOR W/O SEMI-TRAILER_count  \\\n",
       "POSTED_SPEED_LIMIT                                           0.003318     \n",
       "NUM_UNITS                                                    0.006118     \n",
       "people_counts                                                0.004289     \n",
       "TARGET                                                       0.002676     \n",
       "people_AGE_count                                             0.007087     \n",
       "\n",
       "                    vehicle_VEHICLE_TYPE_TRUCK - SINGLE UNIT_count  \\\n",
       "POSTED_SPEED_LIMIT                                        0.016044   \n",
       "NUM_UNITS                                                 0.011399   \n",
       "people_counts                                             0.026141   \n",
       "TARGET                                                    0.033919   \n",
       "people_AGE_count                                          0.004612   \n",
       "\n",
       "                    vehicle_VEHICLE_TYPE_UNKNOWN/NA_count  \\\n",
       "POSTED_SPEED_LIMIT                               0.061501   \n",
       "NUM_UNITS                                        0.056225   \n",
       "people_counts                                    0.187885   \n",
       "TARGET                                           0.119476   \n",
       "people_AGE_count                                 0.338849   \n",
       "\n",
       "                    vehicle_VEHICLE_TYPE_VAN/MINI-VAN_count  \n",
       "POSTED_SPEED_LIMIT                                 0.009958  \n",
       "NUM_UNITS                                          0.075619  \n",
       "people_counts                                      0.038532  \n",
       "TARGET                                             0.000366  \n",
       "people_AGE_count                                   0.034794  \n",
       "\n",
       "[5 rows x 94 columns]"
      ]
     },
     "execution_count": 386,
     "metadata": {},
     "output_type": "execute_result"
    }
   ],
   "source": [
    "# Upper triangle of correlations\n",
    "upper = corr_matrix.where(np.triu(np.ones(corr_matrix.shape), k=1).astype(np.bool))\n",
    "upper.head()"
   ]
  },
  {
   "cell_type": "code",
   "execution_count": 387,
   "metadata": {},
   "outputs": [
    {
     "name": "stdout",
     "output_type": "stream",
     "text": [
      "There are 1 columns to remove.\n"
     ]
    }
   ],
   "source": [
    "# Select columns with correlations above threshold\n",
    "to_drop = [column for column in upper.columns if any(upper[column] > threshold)]\n",
    "\n",
    "print('There are %d columns to remove.' % (len(to_drop)))"
   ]
  },
  {
   "cell_type": "code",
   "execution_count": 388,
   "metadata": {},
   "outputs": [
    {
     "data": {
      "text/plain": [
       "['SAFETY_EQUIPMENT_USAGE UNKNOWN_count_norm']"
      ]
     },
     "execution_count": 388,
     "metadata": {},
     "output_type": "execute_result"
    }
   ],
   "source": [
    "to_drop"
   ]
  },
  {
   "cell_type": "code",
   "execution_count": 389,
   "metadata": {},
   "outputs": [
    {
     "name": "stdout",
     "output_type": "stream",
     "text": [
      "Training shape:  (207101, 110)\n"
     ]
    }
   ],
   "source": [
    "# Drop Correlated Variables\n",
    "train = train.drop(columns = to_drop)\n",
    "\n",
    "print('Training shape: ', train.shape)"
   ]
  },
  {
   "cell_type": "markdown",
   "metadata": {},
   "source": [
    "## Remove Missing Values\n",
    "There is no right way to choose the threshold for missing values.\n",
    "In this implementation, if any columns have greater than 70% missing values, they will be removed, which has been done on feature engineering process"
   ]
  },
  {
   "cell_type": "code",
   "execution_count": 390,
   "metadata": {},
   "outputs": [
    {
     "data": {
      "text/plain": [
       "LANE_CNT                                       0.338627\n",
       "people_AGE_mean                                0.176271\n",
       "SAFETY_EQUIPMENT_CHILD RESTRAINT USED_count    0.015649\n",
       "SAFETY_EQUIPMENT_NONE PRESENT_count            0.015649\n",
       "AIRBAG_DEPLOYED_NOT APPLICABLE_count_norm      0.015649\n",
       "dtype: float64"
      ]
     },
     "execution_count": 390,
     "metadata": {},
     "output_type": "execute_result"
    }
   ],
   "source": [
    "# Train missing values (in percent)\n",
    "train_missing = (train.isnull().sum() / len(train)).sort_values(ascending = False)\n",
    "train_missing.head()"
   ]
  },
  {
   "cell_type": "code",
   "execution_count": 391,
   "metadata": {},
   "outputs": [],
   "source": [
    "# Identify missing values above threshold\n",
    "train_missing = train_missing.index[train_missing > 0.75]\n",
    "missing = list(set(train_missing))"
   ]
  },
  {
   "cell_type": "code",
   "execution_count": 392,
   "metadata": {},
   "outputs": [
    {
     "data": {
      "text/plain": [
       "'There are 0 columns with more than 75% missing values'"
      ]
     },
     "execution_count": 392,
     "metadata": {},
     "output_type": "execute_result"
    }
   ],
   "source": [
    "f'There are {len(missing)} columns with more than 75% missing values'"
   ]
  },
  {
   "cell_type": "code",
   "execution_count": 393,
   "metadata": {},
   "outputs": [
    {
     "data": {
      "text/plain": [
       "POSTED_SPEED_LIMIT                                       0\n",
       "TRAFFIC_CONTROL_DEVICE                                   0\n",
       "DEVICE_CONDITION                                         0\n",
       "WEATHER_CONDITION                                        0\n",
       "LIGHTING_CONDITION                                       0\n",
       "                                                      ... \n",
       "vehicle_VEHICLE_TYPE_TRACTOR W/ SEMI-TRAILER_count     391\n",
       "vehicle_VEHICLE_TYPE_TRACTOR W/O SEMI-TRAILER_count    391\n",
       "vehicle_VEHICLE_TYPE_TRUCK - SINGLE UNIT_count         391\n",
       "vehicle_VEHICLE_TYPE_UNKNOWN/NA_count                  391\n",
       "vehicle_VEHICLE_TYPE_VAN/MINI-VAN_count                391\n",
       "Length: 110, dtype: int64"
      ]
     },
     "execution_count": 393,
     "metadata": {},
     "output_type": "execute_result"
    }
   ],
   "source": [
    "train.isnull().sum()"
   ]
  },
  {
   "cell_type": "code",
   "execution_count": 394,
   "metadata": {},
   "outputs": [],
   "source": [
    "# One Hot Encoding\n",
    "features = pd.get_dummies(train)\n",
    "# drop special characters: it will cause issues later\n",
    "\n",
    "features.columns=features.columns.str.replace(r'[$]', '')\n",
    "features.columns=features.columns.str.replace(r'[/]', '')\n",
    "features.columns=features.columns.str.replace(r'[,]', '')\n",
    "features.columns=features.columns.str.replace(r'[-]', '')\n",
    "# Extract features and labels\n",
    "labels = features['TARGET']\n",
    "features = features.drop('TARGET', axis = 1)\n",
    "\n",
    "# List of features for later use\n",
    "feature_list = list(features.columns)"
   ]
  },
  {
   "cell_type": "code",
   "execution_count": 395,
   "metadata": {},
   "outputs": [],
   "source": [
    "# Convert to numpy arrays\n",
    "import numpy as np\n",
    "\n",
    "# features = np.array(features)\n",
    "# labels = np.array(labels)\n",
    "\n",
    "# Training and Testing Sets\n",
    "from sklearn.model_selection import train_test_split\n",
    "\n",
    "train_features, test_features, train_labels, test_labels = train_test_split(features, labels, \n",
    "                                                                            test_size = 0.25, random_state = 2003)"
   ]
  },
  {
   "cell_type": "code",
   "execution_count": 396,
   "metadata": {},
   "outputs": [
    {
     "name": "stdout",
     "output_type": "stream",
     "text": [
      "Training Features Shape: (155325, 345)\n",
      "Training Labels Shape: (155325,)\n",
      "Testing Features Shape: (51776, 345)\n",
      "Testing Labels Shape: (51776,)\n"
     ]
    }
   ],
   "source": [
    "\n",
    "print('Training Features Shape:', train_features.shape)\n",
    "print('Training Labels Shape:', train_labels.shape)\n",
    "print('Testing Features Shape:', test_features.shape)\n",
    "print('Testing Labels Shape:', test_labels.shape)"
   ]
  },
  {
   "cell_type": "markdown",
   "metadata": {},
   "source": [
    "There are some variables with NaN value. Random Forest cannot handle the missing data, We are going to replace NaN value with median or most frequent values."
   ]
  },
  {
   "cell_type": "code",
   "execution_count": 397,
   "metadata": {},
   "outputs": [],
   "source": [
    "# function for replacing missing variables. \n",
    "import pandas as pd\n",
    "import numpy as np\n",
    "\n",
    "from sklearn.base import TransformerMixin\n",
    "\n",
    "class DataFrameImputer(TransformerMixin):\n",
    "\n",
    "    def __init__(self):\n",
    "        \"\"\"Impute missing values.\n",
    "\n",
    "        Columns of dtype object are imputed with the most frequent value \n",
    "        in column.\n",
    "\n",
    "        Columns of other types are imputed with mean of column.\n",
    "\n",
    "        \"\"\"\n",
    "    def fit(self, X, y=None):\n",
    "\n",
    "        self.fill = pd.Series([X[c].value_counts().index[0]\n",
    "            if X[c].dtype == np.dtype('O') else X[c].mean() for c in X],\n",
    "            index=X.columns)\n",
    "\n",
    "        return self\n",
    "\n",
    "    def transform(self, X, y=None):\n",
    "        return X.fillna(self.fill)\n",
    "\n",
    "X = pd.DataFrame(train_features)\n",
    "train_features = DataFrameImputer().fit_transform(X)\n",
    "T = pd.DataFrame(test_features)\n",
    "test_features = DataFrameImputer().fit_transform(T)"
   ]
  },
  {
   "cell_type": "code",
   "execution_count": 398,
   "metadata": {},
   "outputs": [
    {
     "data": {
      "text/plain": [
       "POSTED_SPEED_LIMIT    0\n",
       "NUM_UNITS             0\n",
       "people_counts         0\n",
       "people_AGE_count      0\n",
       "people_AGE_mean       0\n",
       "                     ..\n",
       "CRASH_MONTH_8         0\n",
       "CRASH_MONTH_9         0\n",
       "YEAR_2017             0\n",
       "YEAR_2018             0\n",
       "YEAR_2019             0\n",
       "Length: 345, dtype: int64"
      ]
     },
     "execution_count": 398,
     "metadata": {},
     "output_type": "execute_result"
    }
   ],
   "source": [
    "train_features.isnull().sum()"
   ]
  },
  {
   "cell_type": "code",
   "execution_count": 399,
   "metadata": {},
   "outputs": [
    {
     "data": {
      "text/plain": [
       "POSTED_SPEED_LIMIT    0\n",
       "NUM_UNITS             0\n",
       "people_counts         0\n",
       "people_AGE_count      0\n",
       "people_AGE_mean       0\n",
       "                     ..\n",
       "CRASH_MONTH_8         0\n",
       "CRASH_MONTH_9         0\n",
       "YEAR_2017             0\n",
       "YEAR_2018             0\n",
       "YEAR_2019             0\n",
       "Length: 345, dtype: int64"
      ]
     },
     "execution_count": 399,
     "metadata": {},
     "output_type": "execute_result"
    }
   ],
   "source": [
    "test_features.isnull().sum()"
   ]
  },
  {
   "cell_type": "code",
   "execution_count": 400,
   "metadata": {},
   "outputs": [
    {
     "data": {
      "text/plain": [
       "(51776, 345)"
      ]
     },
     "execution_count": 400,
     "metadata": {},
     "output_type": "execute_result"
    }
   ],
   "source": [
    "test_features.shape"
   ]
  },
  {
   "cell_type": "code",
   "execution_count": 401,
   "metadata": {},
   "outputs": [],
   "source": [
    "# save to csv\n",
    "train.to_csv('../output/00_injury_corr_ohe_missing.csv')"
   ]
  },
  {
   "cell_type": "markdown",
   "metadata": {},
   "source": [
    "## Feature Selection through Feature Importances\n",
    "The next method we can employ for feature selection is to use the feature importances of a model. Tree-based models (and consequently ensembles of trees) can determine an \"importance\" for each feature by measuring the reduction in impurity for including the feature in the model. Moreover, we can use the feature importances to remove features that the model does not consider important.\n",
    "\n",
    "we can perform our own feature removal by selecting cumulative importance at 95% first. If this leaves too many features, then we can consider removing the features with the lowest importance. "
   ]
  },
  {
   "cell_type": "markdown",
   "metadata": {},
   "source": [
    "### Examine the Default Random Forest to Determine Parameters\n",
    "We will use these parameters as a starting point. I relied on the sklearn random forest documentation to determine which features to change and the available options."
   ]
  },
  {
   "cell_type": "code",
   "execution_count": 402,
   "metadata": {},
   "outputs": [
    {
     "name": "stdout",
     "output_type": "stream",
     "text": [
      "Parameters currently in use:\n",
      "\n",
      "{'bootstrap': True,\n",
      " 'ccp_alpha': 0.0,\n",
      " 'class_weight': 'balanced_subsample',\n",
      " 'criterion': 'gini',\n",
      " 'max_depth': None,\n",
      " 'max_features': 'auto',\n",
      " 'max_leaf_nodes': None,\n",
      " 'max_samples': None,\n",
      " 'min_impurity_decrease': 0.0,\n",
      " 'min_impurity_split': None,\n",
      " 'min_samples_leaf': 1,\n",
      " 'min_samples_split': 2,\n",
      " 'min_weight_fraction_leaf': 0.0,\n",
      " 'n_estimators': 1000,\n",
      " 'n_jobs': -1,\n",
      " 'oob_score': 'True',\n",
      " 'random_state': 2003,\n",
      " 'verbose': 0,\n",
      " 'warm_start': False}\n"
     ]
    }
   ],
   "source": [
    "base_clf = RandomForestClassifier(random_state = 2003, class_weight='balanced_subsample',\n",
    "                                  oob_score='True',n_estimators= 1000, n_jobs=-1)\n",
    "\n",
    "\n",
    "\n",
    "from pprint import pprint\n",
    "# Look at parameters used by our current forest\n",
    "print('Parameters currently in use:\\n')\n",
    "pprint(base_clf.get_params()) # print nicely"
   ]
  },
  {
   "cell_type": "code",
   "execution_count": 403,
   "metadata": {},
   "outputs": [
    {
     "data": {
      "text/plain": [
       "RandomForestClassifier(bootstrap=True, ccp_alpha=0.0,\n",
       "                       class_weight='balanced_subsample', criterion='gini',\n",
       "                       max_depth=None, max_features='auto', max_leaf_nodes=None,\n",
       "                       max_samples=None, min_impurity_decrease=0.0,\n",
       "                       min_impurity_split=None, min_samples_leaf=1,\n",
       "                       min_samples_split=2, min_weight_fraction_leaf=0.0,\n",
       "                       n_estimators=1000, n_jobs=-1, oob_score='True',\n",
       "                       random_state=2003, verbose=0, warm_start=False)"
      ]
     },
     "execution_count": 403,
     "metadata": {},
     "output_type": "execute_result"
    }
   ],
   "source": [
    "base_clf.fit(train_features, train_labels)"
   ]
  },
  {
   "cell_type": "code",
   "execution_count": 451,
   "metadata": {},
   "outputs": [],
   "source": [
    "# evaluation for model\n",
    "from sklearn import metrics as mt\n",
    "def evaluate(model, test_features, test_labels):\n",
    "    predictions = model.predict(test_features)\n",
    "    oob_score = model.oob_score_\n",
    "    report= mt.classification_report(test_labels, predictions) \n",
    "    print('***** Model Performance. *****')\n",
    "    print('- Out of Bag score: {:0.4f}.'.format(oob_score))\n",
    "    print('- test_labels values:',test_labels.values[0:10]) # if it is array alreay. no need to call as .values\n",
    "    print('- predictions values:',predictions[0:10],'\\n')\n",
    "    print('<Accuracy> \\n{}'.format(report))\n",
    "    \n",
    "    return report"
   ]
  },
  {
   "cell_type": "code",
   "execution_count": 452,
   "metadata": {},
   "outputs": [
    {
     "name": "stdout",
     "output_type": "stream",
     "text": [
      "***** Model Performance. *****\n",
      "- Out of Bag score: 0.8536.\n",
      "- test_labels values: [0 0 0 0 0 0 0 0 1 0]\n",
      "- predictions values: [0 0 0 0 0 0 1 0 0 0] \n",
      "\n",
      "<Accuracy> \n",
      "              precision    recall  f1-score   support\n",
      "\n",
      "           0       0.85      0.97      0.91     39041\n",
      "           1       0.83      0.50      0.62     12735\n",
      "\n",
      "    accuracy                           0.85     51776\n",
      "   macro avg       0.84      0.73      0.76     51776\n",
      "weighted avg       0.85      0.85      0.84     51776\n",
      "\n"
     ]
    },
    {
     "data": {
      "text/plain": [
       "'              precision    recall  f1-score   support\\n\\n           0       0.85      0.97      0.91     39041\\n           1       0.83      0.50      0.62     12735\\n\\n    accuracy                           0.85     51776\\n   macro avg       0.84      0.73      0.76     51776\\nweighted avg       0.85      0.85      0.84     51776\\n'"
      ]
     },
     "execution_count": 452,
     "metadata": {},
     "output_type": "execute_result"
    }
   ],
   "source": [
    "evaluate(base_clf, test_features, test_labels)"
   ]
  },
  {
   "cell_type": "code",
   "execution_count": 408,
   "metadata": {},
   "outputs": [
    {
     "name": "stdout",
     "output_type": "stream",
     "text": [
      "Parameters currently in use:\n",
      "\n",
      "{'bootstrap': True,\n",
      " 'ccp_alpha': 0.0,\n",
      " 'class_weight': 'balanced',\n",
      " 'criterion': 'gini',\n",
      " 'max_depth': None,\n",
      " 'max_features': 'auto',\n",
      " 'max_leaf_nodes': None,\n",
      " 'max_samples': None,\n",
      " 'min_impurity_decrease': 0.0,\n",
      " 'min_impurity_split': None,\n",
      " 'min_samples_leaf': 1,\n",
      " 'min_samples_split': 2,\n",
      " 'min_weight_fraction_leaf': 0.0,\n",
      " 'n_estimators': 1000,\n",
      " 'n_jobs': -1,\n",
      " 'oob_score': 'True',\n",
      " 'random_state': 2003,\n",
      " 'verbose': 0,\n",
      " 'warm_start': False}\n"
     ]
    }
   ],
   "source": [
    "# out of curiosity, runs with different class-weight\n",
    "base_clf_1 = RandomForestClassifier(random_state = 2003, class_weight='balanced',\n",
    "                                  oob_score='True',n_estimators= 1000, n_jobs=-1)\n",
    "\n",
    "from pprint import pprint\n",
    "# Look at parameters used by our current forest\n",
    "print('Parameters currently in use:\\n')\n",
    "pprint(base_clf_1.get_params()) # print nicely"
   ]
  },
  {
   "cell_type": "code",
   "execution_count": 409,
   "metadata": {},
   "outputs": [
    {
     "data": {
      "text/plain": [
       "RandomForestClassifier(bootstrap=True, ccp_alpha=0.0, class_weight='balanced',\n",
       "                       criterion='gini', max_depth=None, max_features='auto',\n",
       "                       max_leaf_nodes=None, max_samples=None,\n",
       "                       min_impurity_decrease=0.0, min_impurity_split=None,\n",
       "                       min_samples_leaf=1, min_samples_split=2,\n",
       "                       min_weight_fraction_leaf=0.0, n_estimators=1000,\n",
       "                       n_jobs=-1, oob_score='True', random_state=2003,\n",
       "                       verbose=0, warm_start=False)"
      ]
     },
     "execution_count": 409,
     "metadata": {},
     "output_type": "execute_result"
    }
   ],
   "source": [
    "base_clf_1.fit(train_features, train_labels)"
   ]
  },
  {
   "cell_type": "code",
   "execution_count": 410,
   "metadata": {},
   "outputs": [
    {
     "name": "stdout",
     "output_type": "stream",
     "text": [
      "***** Model Performance. *****\n",
      "- Out of Bag score: 0.8536.\n",
      "- test_labels values: [0 0 0 0 0 0 0 0 1 0]\n",
      "- predictions values: [0 0 0 0 0 0 1 0 0 0] \n",
      "\n",
      "<Accuracy> \n",
      "              precision    recall  f1-score   support\n",
      "\n",
      "           0       0.86      0.97      0.91     39041\n",
      "           1       0.82      0.50      0.62     12735\n",
      "\n",
      "    accuracy                           0.85     51776\n",
      "   macro avg       0.84      0.73      0.76     51776\n",
      "weighted avg       0.85      0.85      0.84     51776\n",
      "\n"
     ]
    },
    {
     "data": {
      "text/plain": [
       "'              precision    recall  f1-score   support\\n\\n           0       0.86      0.97      0.91     39041\\n           1       0.82      0.50      0.62     12735\\n\\n    accuracy                           0.85     51776\\n   macro avg       0.84      0.73      0.76     51776\\nweighted avg       0.85      0.85      0.84     51776\\n'"
      ]
     },
     "execution_count": 410,
     "metadata": {},
     "output_type": "execute_result"
    }
   ],
   "source": [
    "evaluate(base_clf_1, test_features, test_labels)"
   ]
  },
  {
   "cell_type": "markdown",
   "metadata": {},
   "source": [
    "Recall socore of our target INJURY(target=1) is much less than NoInjury's one due to imbalanced dataset. We have used the parameter for 'Class_weight = balanced_subsample'. We might need to tune the hyperparameter."
   ]
  },
  {
   "cell_type": "markdown",
   "metadata": {},
   "source": [
    "## Feture importance"
   ]
  },
  {
   "cell_type": "code",
   "execution_count": 411,
   "metadata": {},
   "outputs": [],
   "source": [
    "fi_model = pd.DataFrame({'feature': feature_list,\n",
    "                   'importance': base_clf.feature_importances_}).sort_values('importance', ascending = False)"
   ]
  },
  {
   "cell_type": "code",
   "execution_count": 412,
   "metadata": {},
   "outputs": [
    {
     "data": {
      "text/html": [
       "<div>\n",
       "<style scoped>\n",
       "    .dataframe tbody tr th:only-of-type {\n",
       "        vertical-align: middle;\n",
       "    }\n",
       "\n",
       "    .dataframe tbody tr th {\n",
       "        vertical-align: top;\n",
       "    }\n",
       "\n",
       "    .dataframe thead th {\n",
       "        text-align: right;\n",
       "    }\n",
       "</style>\n",
       "<table border=\"1\" class=\"dataframe\">\n",
       "  <thead>\n",
       "    <tr style=\"text-align: right;\">\n",
       "      <th></th>\n",
       "      <th>feature</th>\n",
       "      <th>importance</th>\n",
       "    </tr>\n",
       "  </thead>\n",
       "  <tbody>\n",
       "    <tr>\n",
       "      <th>4</th>\n",
       "      <td>people_AGE_mean</td>\n",
       "      <td>0.032423</td>\n",
       "    </tr>\n",
       "    <tr>\n",
       "      <th>218</th>\n",
       "      <td>DAMAGE_OVER 1500</td>\n",
       "      <td>0.032413</td>\n",
       "    </tr>\n",
       "    <tr>\n",
       "      <th>14</th>\n",
       "      <td>AIRBAG_DEPLOYED_DEPLOYED FRONT_count</td>\n",
       "      <td>0.030771</td>\n",
       "    </tr>\n",
       "    <tr>\n",
       "      <th>3</th>\n",
       "      <td>people_AGE_count</td>\n",
       "      <td>0.027395</td>\n",
       "    </tr>\n",
       "    <tr>\n",
       "      <th>217</th>\n",
       "      <td>DAMAGE_501  1500</td>\n",
       "      <td>0.026832</td>\n",
       "    </tr>\n",
       "    <tr>\n",
       "      <th>...</th>\n",
       "      <td>...</td>\n",
       "      <td>...</td>\n",
       "    </tr>\n",
       "    <tr>\n",
       "      <th>159</th>\n",
       "      <td>LANE_CNT_19.0</td>\n",
       "      <td>0.000000</td>\n",
       "    </tr>\n",
       "    <tr>\n",
       "      <th>168</th>\n",
       "      <td>LANE_CNT_41.0</td>\n",
       "      <td>0.000000</td>\n",
       "    </tr>\n",
       "    <tr>\n",
       "      <th>178</th>\n",
       "      <td>LANE_CNT_1191625</td>\n",
       "      <td>0.000000</td>\n",
       "    </tr>\n",
       "    <tr>\n",
       "      <th>10</th>\n",
       "      <td>SEX_U_count_norm</td>\n",
       "      <td>0.000000</td>\n",
       "    </tr>\n",
       "    <tr>\n",
       "      <th>9</th>\n",
       "      <td>SEX_U_count</td>\n",
       "      <td>0.000000</td>\n",
       "    </tr>\n",
       "  </tbody>\n",
       "</table>\n",
       "<p>345 rows × 2 columns</p>\n",
       "</div>"
      ],
      "text/plain": [
       "                                  feature  importance\n",
       "4                         people_AGE_mean    0.032423\n",
       "218                      DAMAGE_OVER 1500    0.032413\n",
       "14   AIRBAG_DEPLOYED_DEPLOYED FRONT_count    0.030771\n",
       "3                        people_AGE_count    0.027395\n",
       "217                      DAMAGE_501  1500    0.026832\n",
       "..                                    ...         ...\n",
       "159                         LANE_CNT_19.0    0.000000\n",
       "168                         LANE_CNT_41.0    0.000000\n",
       "178                      LANE_CNT_1191625    0.000000\n",
       "10                       SEX_U_count_norm    0.000000\n",
       "9                             SEX_U_count    0.000000\n",
       "\n",
       "[345 rows x 2 columns]"
      ]
     },
     "execution_count": 412,
     "metadata": {},
     "output_type": "execute_result"
    }
   ],
   "source": [
    "import matplotlib.pyplot as plt\n",
    "import numpy as np\n",
    "\n",
    "plt.style.use('fivethirtyeight')\n",
    "fi_model"
   ]
  },
  {
   "cell_type": "code",
   "execution_count": 413,
   "metadata": {},
   "outputs": [],
   "source": [
    "# feature_importance top 15\n",
    "def plot_feature_importances(df):\n",
    "    \"\"\"\n",
    "    Plot importances returned by a model. This can work with any measure of\n",
    "    feature importance provided that higher importance is better. \n",
    "    \n",
    "    Args:\n",
    "        df (dataframe): feature importances. Must have the features in a column\n",
    "        called `features` and the importances in a column called `importance\n",
    "        \n",
    "    Returns:\n",
    "        shows a plot of the 15 most importance features\n",
    "        \n",
    "        df (dataframe): feature importances sorted by importance (highest to lowest) \n",
    "        with a column for normalized importance\n",
    "        \"\"\"\n",
    "    \n",
    "    # Sort features according to importance\n",
    "    df = df.sort_values('importance', ascending = False).reset_index()\n",
    "    \n",
    "    # Normalize the feature importances to add up to one\n",
    "    df['importance_normalized'] = df['importance'] / df['importance'].sum()\n",
    "\n",
    "    # Make a horizontal bar chart of feature importances\n",
    "    plt.figure(figsize = (10, 6))\n",
    "    ax = plt.subplot()\n",
    "    \n",
    "    # Need to reverse the index to plot most important on top\n",
    "    ax.barh(list(reversed(list(df.index[:15]))), \n",
    "            df['importance_normalized'].head(15), \n",
    "            align = 'center', edgecolor = 'k')\n",
    "    \n",
    "    # Set the yticks and labels\n",
    "    ax.set_yticks(list(reversed(list(df.index[:15]))))\n",
    "    ax.set_yticklabels(df['feature'].head(15))\n",
    "    \n",
    "    # Plot labeling\n",
    "    plt.xlabel('Normalized Importance'); plt.title('Feature Importances')\n",
    "    plt.show()\n",
    "    \n",
    "    return df"
   ]
  },
  {
   "cell_type": "code",
   "execution_count": 414,
   "metadata": {},
   "outputs": [
    {
     "data": {
      "image/png": "[encoded data removed]",
      "text/plain": [
       "<Figure size 720x432 with 1 Axes>"
      ]
     },
     "metadata": {},
     "output_type": "display_data"
    },
    {
     "data": {
      "text/html": [
       "<div>\n",
       "<style scoped>\n",
       "    .dataframe tbody tr th:only-of-type {\n",
       "        vertical-align: middle;\n",
       "    }\n",
       "\n",
       "    .dataframe tbody tr th {\n",
       "        vertical-align: top;\n",
       "    }\n",
       "\n",
       "    .dataframe thead th {\n",
       "        text-align: right;\n",
       "    }\n",
       "</style>\n",
       "<table border=\"1\" class=\"dataframe\">\n",
       "  <thead>\n",
       "    <tr style=\"text-align: right;\">\n",
       "      <th></th>\n",
       "      <th>index</th>\n",
       "      <th>feature</th>\n",
       "      <th>importance</th>\n",
       "      <th>importance_normalized</th>\n",
       "    </tr>\n",
       "  </thead>\n",
       "  <tbody>\n",
       "    <tr>\n",
       "      <th>0</th>\n",
       "      <td>4</td>\n",
       "      <td>people_AGE_mean</td>\n",
       "      <td>0.032423</td>\n",
       "      <td>0.032423</td>\n",
       "    </tr>\n",
       "    <tr>\n",
       "      <th>1</th>\n",
       "      <td>218</td>\n",
       "      <td>DAMAGE_OVER 1500</td>\n",
       "      <td>0.032413</td>\n",
       "      <td>0.032413</td>\n",
       "    </tr>\n",
       "    <tr>\n",
       "      <th>2</th>\n",
       "      <td>14</td>\n",
       "      <td>AIRBAG_DEPLOYED_DEPLOYED FRONT_count</td>\n",
       "      <td>0.030771</td>\n",
       "      <td>0.030771</td>\n",
       "    </tr>\n",
       "    <tr>\n",
       "      <th>3</th>\n",
       "      <td>3</td>\n",
       "      <td>people_AGE_count</td>\n",
       "      <td>0.027395</td>\n",
       "      <td>0.027395</td>\n",
       "    </tr>\n",
       "    <tr>\n",
       "      <th>4</th>\n",
       "      <td>217</td>\n",
       "      <td>DAMAGE_501  1500</td>\n",
       "      <td>0.026832</td>\n",
       "      <td>0.026832</td>\n",
       "    </tr>\n",
       "    <tr>\n",
       "      <th>...</th>\n",
       "      <td>...</td>\n",
       "      <td>...</td>\n",
       "      <td>...</td>\n",
       "      <td>...</td>\n",
       "    </tr>\n",
       "    <tr>\n",
       "      <th>340</th>\n",
       "      <td>159</td>\n",
       "      <td>LANE_CNT_19.0</td>\n",
       "      <td>0.000000</td>\n",
       "      <td>0.000000</td>\n",
       "    </tr>\n",
       "    <tr>\n",
       "      <th>341</th>\n",
       "      <td>168</td>\n",
       "      <td>LANE_CNT_41.0</td>\n",
       "      <td>0.000000</td>\n",
       "      <td>0.000000</td>\n",
       "    </tr>\n",
       "    <tr>\n",
       "      <th>342</th>\n",
       "      <td>178</td>\n",
       "      <td>LANE_CNT_1191625</td>\n",
       "      <td>0.000000</td>\n",
       "      <td>0.000000</td>\n",
       "    </tr>\n",
       "    <tr>\n",
       "      <th>343</th>\n",
       "      <td>10</td>\n",
       "      <td>SEX_U_count_norm</td>\n",
       "      <td>0.000000</td>\n",
       "      <td>0.000000</td>\n",
       "    </tr>\n",
       "    <tr>\n",
       "      <th>344</th>\n",
       "      <td>9</td>\n",
       "      <td>SEX_U_count</td>\n",
       "      <td>0.000000</td>\n",
       "      <td>0.000000</td>\n",
       "    </tr>\n",
       "  </tbody>\n",
       "</table>\n",
       "<p>345 rows × 4 columns</p>\n",
       "</div>"
      ],
      "text/plain": [
       "     index                               feature  importance  \\\n",
       "0        4                       people_AGE_mean    0.032423   \n",
       "1      218                      DAMAGE_OVER 1500    0.032413   \n",
       "2       14  AIRBAG_DEPLOYED_DEPLOYED FRONT_count    0.030771   \n",
       "3        3                      people_AGE_count    0.027395   \n",
       "4      217                      DAMAGE_501  1500    0.026832   \n",
       "..     ...                                   ...         ...   \n",
       "340    159                         LANE_CNT_19.0    0.000000   \n",
       "341    168                         LANE_CNT_41.0    0.000000   \n",
       "342    178                      LANE_CNT_1191625    0.000000   \n",
       "343     10                      SEX_U_count_norm    0.000000   \n",
       "344      9                           SEX_U_count    0.000000   \n",
       "\n",
       "     importance_normalized  \n",
       "0                 0.032423  \n",
       "1                 0.032413  \n",
       "2                 0.030771  \n",
       "3                 0.027395  \n",
       "4                 0.026832  \n",
       "..                     ...  \n",
       "340               0.000000  \n",
       "341               0.000000  \n",
       "342               0.000000  \n",
       "343               0.000000  \n",
       "344               0.000000  \n",
       "\n",
       "[345 rows x 4 columns]"
      ]
     },
     "execution_count": 414,
     "metadata": {},
     "output_type": "execute_result"
    }
   ],
   "source": [
    "plot_feature_importances(fi_model)"
   ]
  },
  {
   "cell_type": "markdown",
   "metadata": {},
   "source": [
    "### Limit Number of Features\n",
    "We will now reduce the number of features in use by the model to only those required to account for 95% of the importance. The same number of features must be used in the training and testing sets."
   ]
  },
  {
   "cell_type": "code",
   "execution_count": 415,
   "metadata": {},
   "outputs": [
    {
     "data": {
      "text/html": [
       "<div>\n",
       "<style scoped>\n",
       "    .dataframe tbody tr th:only-of-type {\n",
       "        vertical-align: middle;\n",
       "    }\n",
       "\n",
       "    .dataframe tbody tr th {\n",
       "        vertical-align: top;\n",
       "    }\n",
       "\n",
       "    .dataframe thead th {\n",
       "        text-align: right;\n",
       "    }\n",
       "</style>\n",
       "<table border=\"1\" class=\"dataframe\">\n",
       "  <thead>\n",
       "    <tr style=\"text-align: right;\">\n",
       "      <th></th>\n",
       "      <th>feature</th>\n",
       "      <th>importance</th>\n",
       "      <th>cumulative_importance</th>\n",
       "    </tr>\n",
       "  </thead>\n",
       "  <tbody>\n",
       "    <tr>\n",
       "      <th>4</th>\n",
       "      <td>people_AGE_mean</td>\n",
       "      <td>0.032423</td>\n",
       "      <td>0.032423</td>\n",
       "    </tr>\n",
       "    <tr>\n",
       "      <th>218</th>\n",
       "      <td>DAMAGE_OVER 1500</td>\n",
       "      <td>0.032413</td>\n",
       "      <td>0.064837</td>\n",
       "    </tr>\n",
       "    <tr>\n",
       "      <th>14</th>\n",
       "      <td>AIRBAG_DEPLOYED_DEPLOYED FRONT_count</td>\n",
       "      <td>0.030771</td>\n",
       "      <td>0.095608</td>\n",
       "    </tr>\n",
       "    <tr>\n",
       "      <th>3</th>\n",
       "      <td>people_AGE_count</td>\n",
       "      <td>0.027395</td>\n",
       "      <td>0.123004</td>\n",
       "    </tr>\n",
       "    <tr>\n",
       "      <th>217</th>\n",
       "      <td>DAMAGE_501  1500</td>\n",
       "      <td>0.026832</td>\n",
       "      <td>0.149836</td>\n",
       "    </tr>\n",
       "    <tr>\n",
       "      <th>...</th>\n",
       "      <td>...</td>\n",
       "      <td>...</td>\n",
       "      <td>...</td>\n",
       "    </tr>\n",
       "    <tr>\n",
       "      <th>159</th>\n",
       "      <td>LANE_CNT_19.0</td>\n",
       "      <td>0.000000</td>\n",
       "      <td>1.000000</td>\n",
       "    </tr>\n",
       "    <tr>\n",
       "      <th>168</th>\n",
       "      <td>LANE_CNT_41.0</td>\n",
       "      <td>0.000000</td>\n",
       "      <td>1.000000</td>\n",
       "    </tr>\n",
       "    <tr>\n",
       "      <th>178</th>\n",
       "      <td>LANE_CNT_1191625</td>\n",
       "      <td>0.000000</td>\n",
       "      <td>1.000000</td>\n",
       "    </tr>\n",
       "    <tr>\n",
       "      <th>10</th>\n",
       "      <td>SEX_U_count_norm</td>\n",
       "      <td>0.000000</td>\n",
       "      <td>1.000000</td>\n",
       "    </tr>\n",
       "    <tr>\n",
       "      <th>9</th>\n",
       "      <td>SEX_U_count</td>\n",
       "      <td>0.000000</td>\n",
       "      <td>1.000000</td>\n",
       "    </tr>\n",
       "  </tbody>\n",
       "</table>\n",
       "<p>345 rows × 3 columns</p>\n",
       "</div>"
      ],
      "text/plain": [
       "                                  feature  importance  cumulative_importance\n",
       "4                         people_AGE_mean    0.032423               0.032423\n",
       "218                      DAMAGE_OVER 1500    0.032413               0.064837\n",
       "14   AIRBAG_DEPLOYED_DEPLOYED FRONT_count    0.030771               0.095608\n",
       "3                        people_AGE_count    0.027395               0.123004\n",
       "217                      DAMAGE_501  1500    0.026832               0.149836\n",
       "..                                    ...         ...                    ...\n",
       "159                         LANE_CNT_19.0    0.000000               1.000000\n",
       "168                         LANE_CNT_41.0    0.000000               1.000000\n",
       "178                      LANE_CNT_1191625    0.000000               1.000000\n",
       "10                       SEX_U_count_norm    0.000000               1.000000\n",
       "9                             SEX_U_count    0.000000               1.000000\n",
       "\n",
       "[345 rows x 3 columns]"
      ]
     },
     "execution_count": 415,
     "metadata": {},
     "output_type": "execute_result"
    }
   ],
   "source": [
    "fi_model['cumulative_importance'] = np.cumsum(fi_model['importance'])\n",
    "fi_model"
   ]
  },
  {
   "cell_type": "code",
   "execution_count": 416,
   "metadata": {},
   "outputs": [
    {
     "name": "stdout",
     "output_type": "stream",
     "text": [
      "Number of features for 95% importance: 170\n"
     ]
    }
   ],
   "source": [
    "print('Number of features for 95% importance:', np.where(fi_model['cumulative_importance'] > 0.95)[0][0] + 1)"
   ]
  },
  {
   "cell_type": "code",
   "execution_count": 417,
   "metadata": {},
   "outputs": [
    {
     "data": {
      "text/plain": [
       "170"
      ]
     },
     "execution_count": 417,
     "metadata": {},
     "output_type": "execute_result"
    }
   ],
   "source": [
    "# check with nunique()\n",
    "fi_model[fi_model['cumulative_importance'] < 0.951]['feature'].nunique()"
   ]
  },
  {
   "cell_type": "code",
   "execution_count": 418,
   "metadata": {},
   "outputs": [
    {
     "data": {
      "text/html": [
       "<div>\n",
       "<style scoped>\n",
       "    .dataframe tbody tr th:only-of-type {\n",
       "        vertical-align: middle;\n",
       "    }\n",
       "\n",
       "    .dataframe tbody tr th {\n",
       "        vertical-align: top;\n",
       "    }\n",
       "\n",
       "    .dataframe thead th {\n",
       "        text-align: right;\n",
       "    }\n",
       "</style>\n",
       "<table border=\"1\" class=\"dataframe\">\n",
       "  <thead>\n",
       "    <tr style=\"text-align: right;\">\n",
       "      <th></th>\n",
       "      <th>feature</th>\n",
       "      <th>importance</th>\n",
       "      <th>cumulative_importance</th>\n",
       "    </tr>\n",
       "  </thead>\n",
       "  <tbody>\n",
       "    <tr>\n",
       "      <th>4</th>\n",
       "      <td>people_AGE_mean</td>\n",
       "      <td>0.032423</td>\n",
       "      <td>0.032423</td>\n",
       "    </tr>\n",
       "    <tr>\n",
       "      <th>218</th>\n",
       "      <td>DAMAGE_OVER 1500</td>\n",
       "      <td>0.032413</td>\n",
       "      <td>0.064837</td>\n",
       "    </tr>\n",
       "    <tr>\n",
       "      <th>14</th>\n",
       "      <td>AIRBAG_DEPLOYED_DEPLOYED FRONT_count</td>\n",
       "      <td>0.030771</td>\n",
       "      <td>0.095608</td>\n",
       "    </tr>\n",
       "    <tr>\n",
       "      <th>3</th>\n",
       "      <td>people_AGE_count</td>\n",
       "      <td>0.027395</td>\n",
       "      <td>0.123004</td>\n",
       "    </tr>\n",
       "    <tr>\n",
       "      <th>217</th>\n",
       "      <td>DAMAGE_501  1500</td>\n",
       "      <td>0.026832</td>\n",
       "      <td>0.149836</td>\n",
       "    </tr>\n",
       "    <tr>\n",
       "      <th>...</th>\n",
       "      <td>...</td>\n",
       "      <td>...</td>\n",
       "      <td>...</td>\n",
       "    </tr>\n",
       "    <tr>\n",
       "      <th>48</th>\n",
       "      <td>vehicle_MANEUVER_SKIDDINGCONTROL LOSS_count</td>\n",
       "      <td>0.001170</td>\n",
       "      <td>0.946053</td>\n",
       "    </tr>\n",
       "    <tr>\n",
       "      <th>256</th>\n",
       "      <td>PRIM_CONTRIBUTORY_CAUSE_WEATHER</td>\n",
       "      <td>0.001141</td>\n",
       "      <td>0.947194</td>\n",
       "    </tr>\n",
       "    <tr>\n",
       "      <th>300</th>\n",
       "      <td>CRASH_HOUR_1</td>\n",
       "      <td>0.001136</td>\n",
       "      <td>0.948330</td>\n",
       "    </tr>\n",
       "    <tr>\n",
       "      <th>147</th>\n",
       "      <td>LANE_CNT_6.0</td>\n",
       "      <td>0.001122</td>\n",
       "      <td>0.949452</td>\n",
       "    </tr>\n",
       "    <tr>\n",
       "      <th>200</th>\n",
       "      <td>ALIGNMENT_STRAIGHT ON GRADE</td>\n",
       "      <td>0.001093</td>\n",
       "      <td>0.950545</td>\n",
       "    </tr>\n",
       "  </tbody>\n",
       "</table>\n",
       "<p>170 rows × 3 columns</p>\n",
       "</div>"
      ],
      "text/plain": [
       "                                         feature  importance  \\\n",
       "4                                people_AGE_mean    0.032423   \n",
       "218                             DAMAGE_OVER 1500    0.032413   \n",
       "14          AIRBAG_DEPLOYED_DEPLOYED FRONT_count    0.030771   \n",
       "3                               people_AGE_count    0.027395   \n",
       "217                             DAMAGE_501  1500    0.026832   \n",
       "..                                           ...         ...   \n",
       "48   vehicle_MANEUVER_SKIDDINGCONTROL LOSS_count    0.001170   \n",
       "256              PRIM_CONTRIBUTORY_CAUSE_WEATHER    0.001141   \n",
       "300                                 CRASH_HOUR_1    0.001136   \n",
       "147                                 LANE_CNT_6.0    0.001122   \n",
       "200                  ALIGNMENT_STRAIGHT ON GRADE    0.001093   \n",
       "\n",
       "     cumulative_importance  \n",
       "4                 0.032423  \n",
       "218               0.064837  \n",
       "14                0.095608  \n",
       "3                 0.123004  \n",
       "217               0.149836  \n",
       "..                     ...  \n",
       "48                0.946053  \n",
       "256               0.947194  \n",
       "300               0.948330  \n",
       "147               0.949452  \n",
       "200               0.950545  \n",
       "\n",
       "[170 rows x 3 columns]"
      ]
     },
     "execution_count": 418,
     "metadata": {},
     "output_type": "execute_result"
    }
   ],
   "source": [
    "#check 0~170\n",
    "fi_model.iloc[0:170]"
   ]
  },
  {
   "cell_type": "code",
   "execution_count": 419,
   "metadata": {},
   "outputs": [
    {
     "data": {
      "text/plain": [
       "Int64Index([  4, 218,  14,   3, 217,  18,  17,   1,  83,  60,\n",
       "            ...\n",
       "            318, 224, 246, 311, 294,  48, 256, 300, 147, 200],\n",
       "           dtype='int64', length=170)"
      ]
     },
     "execution_count": 419,
     "metadata": {},
     "output_type": "execute_result"
    }
   ],
   "source": [
    "fi_model.iloc[0:170].index"
   ]
  },
  {
   "cell_type": "code",
   "execution_count": 420,
   "metadata": {},
   "outputs": [],
   "source": [
    "important_indices = fi_model.iloc[0:170].index"
   ]
  },
  {
   "cell_type": "code",
   "execution_count": 421,
   "metadata": {},
   "outputs": [],
   "source": [
    "important_train_features = train_features.iloc[:,important_indices]\n",
    "important_test_features  = test_features.iloc[:,important_indices]"
   ]
  },
  {
   "cell_type": "markdown",
   "metadata": {},
   "source": [
    "## Random Forest Optimization through Random Search\n",
    "In order to maximize the performance of the random forest, we can perform a random search for better hyperparameters. This will randomly select combinations of hyperparameters from a grid, evaluate them using cross validation on the training data, and return the values that perform the best."
   ]
  },
  {
   "cell_type": "markdown",
   "metadata": {},
   "source": [
    "#### Random search with Cross Validation\n",
    "We will set the hyperparameters randomly."
   ]
  },
  {
   "cell_type": "code",
   "execution_count": 422,
   "metadata": {
    "scrolled": true
   },
   "outputs": [
    {
     "name": "stdout",
     "output_type": "stream",
     "text": [
      "{'bootstrap': [True],\n",
      " 'max_depth': [10, 20, 30, 40, 50, None],\n",
      " 'max_features': ['auto'],\n",
      " 'min_samples_leaf': [1, 2, 4],\n",
      " 'min_samples_split': [2, 5, 10],\n",
      " 'n_estimators': [100, 200, 300, 400, 500]}\n"
     ]
    }
   ],
   "source": [
    "from sklearn.model_selection import RandomizedSearchCV\n",
    "\n",
    "# Number of trees in random forest\n",
    "n_estimators = [int(x) for x in np.linspace(start = 100, stop = 500, num =5 )]\n",
    "# Number of features to consider at every split\n",
    "max_features = ['auto']\n",
    "# Maximum number of levels in tree\n",
    "max_depth = [int(x) for x in np.linspace(10, 50, num = 5)]\n",
    "max_depth.append(None)\n",
    "# Minimum number of samples required to split a node\n",
    "min_samples_split = [2, 5, 10]\n",
    "# Minimum number of samples required at each leaf node\n",
    "min_samples_leaf = [1, 2, 4]\n",
    "# Method of selecting samples for training each tree\n",
    "bootstrap = [True]\n",
    "\n",
    "# Create the random grid\n",
    "random_grid = {'n_estimators': n_estimators,\n",
    "               'max_features': max_features,\n",
    "               'max_depth': max_depth,\n",
    "               'min_samples_split': min_samples_split,\n",
    "               'min_samples_leaf': min_samples_leaf,\n",
    "               'bootstrap': bootstrap}\n",
    "\n",
    "pprint(random_grid)"
   ]
  },
  {
   "cell_type": "markdown",
   "metadata": {},
   "source": [
    "The most important arguments in RandomizedSearchCV are n_iter, which controls the number of different combinations to try, and cv which is the number of folds to use for cross validation (we use 100 and 3 respectively). More iterations will cover a wider search space and more cv folds reduces the chances of overfitting, but raising each will increase the run time. Machine learning is a field of trade-offs, and performance vs time is one of the most fundamental.\n"
   ]
  },
  {
   "cell_type": "code",
   "execution_count": 423,
   "metadata": {},
   "outputs": [
    {
     "name": "stdout",
     "output_type": "stream",
     "text": [
      "Fitting 2 folds for each of 100 candidates, totalling 200 fits\n"
     ]
    },
    {
     "name": "stderr",
     "output_type": "stream",
     "text": [
      "[Parallel(n_jobs=-1)]: Using backend LokyBackend with 16 concurrent workers.\n",
      "[Parallel(n_jobs=-1)]: Done   9 tasks      | elapsed:  4.9min\n",
      "[Parallel(n_jobs=-1)]: Done 130 tasks      | elapsed: 41.6min\n",
      "[Parallel(n_jobs=-1)]: Done 200 out of 200 | elapsed: 62.8min finished\n"
     ]
    },
    {
     "data": {
      "text/plain": [
       "RandomizedSearchCV(cv=2, error_score=nan,\n",
       "                   estimator=RandomForestClassifier(bootstrap=True,\n",
       "                                                    ccp_alpha=0.0,\n",
       "                                                    class_weight='balanced_subsample',\n",
       "                                                    criterion='gini',\n",
       "                                                    max_depth=None,\n",
       "                                                    max_features='auto',\n",
       "                                                    max_leaf_nodes=None,\n",
       "                                                    max_samples=None,\n",
       "                                                    min_impurity_decrease=0.0,\n",
       "                                                    min_impurity_split=None,\n",
       "                                                    min_samples_leaf=1,\n",
       "                                                    min_samples_split=2,\n",
       "                                                    min_weight_fraction_leaf=0.0,\n",
       "                                                    n_estim...\n",
       "                                                    warm_start=False),\n",
       "                   iid='deprecated', n_iter=100, n_jobs=-1,\n",
       "                   param_distributions={'bootstrap': [True],\n",
       "                                        'max_depth': [10, 20, 30, 40, 50, None],\n",
       "                                        'max_features': ['auto'],\n",
       "                                        'min_samples_leaf': [1, 2, 4],\n",
       "                                        'min_samples_split': [2, 5, 10],\n",
       "                                        'n_estimators': [100, 200, 300, 400,\n",
       "                                                         500]},\n",
       "                   pre_dispatch='2*n_jobs', random_state=2003, refit=True,\n",
       "                   return_train_score=True, scoring='roc_auc', verbose=2)"
      ]
     },
     "execution_count": 423,
     "metadata": {},
     "output_type": "execute_result"
    }
   ],
   "source": [
    "# First create the base model to tune\n",
    "rf = RandomForestClassifier(random_state = 2003, class_weight='balanced_subsample',\n",
    "                                  oob_score='True')\n",
    "# Random search of parameters, using 2 fold cross validation to reduce overfiting, \n",
    "# search across 100 different combinations, and use all available cores\n",
    "rf_random = RandomizedSearchCV(estimator=rf, param_distributions=random_grid,\n",
    "                              n_iter = 100, scoring='roc_auc', \n",
    "                              cv = 2, verbose=2, random_state=2003, n_jobs=-1,\n",
    "                              return_train_score=True)\n",
    "\n",
    "# Fit the random search model\n",
    "rf_random.fit(important_train_features, train_labels)"
   ]
  },
  {
   "cell_type": "code",
   "execution_count": 424,
   "metadata": {},
   "outputs": [
    {
     "data": {
      "text/plain": [
       "{'n_estimators': 500,\n",
       " 'min_samples_split': 5,\n",
       " 'min_samples_leaf': 1,\n",
       " 'max_features': 'auto',\n",
       " 'max_depth': 40,\n",
       " 'bootstrap': True}"
      ]
     },
     "execution_count": 424,
     "metadata": {},
     "output_type": "execute_result"
    }
   ],
   "source": [
    "rf_random.best_params_"
   ]
  },
  {
   "cell_type": "code",
   "execution_count": 425,
   "metadata": {},
   "outputs": [
    {
     "data": {
      "text/plain": [
       "make_scorer(roc_auc_score, needs_threshold=True)"
      ]
     },
     "execution_count": 425,
     "metadata": {},
     "output_type": "execute_result"
    }
   ],
   "source": [
    "rf_random.scorer_"
   ]
  },
  {
   "cell_type": "code",
   "execution_count": 426,
   "metadata": {},
   "outputs": [],
   "source": [
    "best_random = rf_random.best_estimator_"
   ]
  },
  {
   "cell_type": "code",
   "execution_count": 427,
   "metadata": {},
   "outputs": [
    {
     "name": "stdout",
     "output_type": "stream",
     "text": [
      "***** Model Performance. *****\n",
      "- Out of Bag score: 0.8555.\n",
      "- test_labels values: [0 0 0 0 0 0 0 0 1 0]\n",
      "- predictions values: [0 0 0 0 0 0 1 0 0 0] \n",
      "\n",
      "<Accuracy> \n",
      "              precision    recall  f1-score   support\n",
      "\n",
      "           0       0.87      0.95      0.91     39041\n",
      "           1       0.77      0.57      0.65     12735\n",
      "\n",
      "    accuracy                           0.85     51776\n",
      "   macro avg       0.82      0.76      0.78     51776\n",
      "weighted avg       0.85      0.85      0.84     51776\n",
      "\n"
     ]
    },
    {
     "data": {
      "text/plain": [
       "'              precision    recall  f1-score   support\\n\\n           0       0.87      0.95      0.91     39041\\n           1       0.77      0.57      0.65     12735\\n\\n    accuracy                           0.85     51776\\n   macro avg       0.82      0.76      0.78     51776\\nweighted avg       0.85      0.85      0.84     51776\\n'"
      ]
     },
     "execution_count": 427,
     "metadata": {},
     "output_type": "execute_result"
    }
   ],
   "source": [
    "random_performance = evaluate(best_random, important_test_features,test_labels)\n",
    "random_performance"
   ]
  },
  {
   "cell_type": "markdown",
   "metadata": {},
   "source": [
    "# Random Forest Results\n",
    "We will use important features only."
   ]
  },
  {
   "cell_type": "code",
   "execution_count": 431,
   "metadata": {},
   "outputs": [],
   "source": [
    "train_rf_predictions = best_random.predict(important_train_features)\n",
    "train_rf_probs = best_random.predict_proba(important_train_features)[:, 1]\n",
    "\n",
    "rf_predictions = best_random.predict(important_test_features)\n",
    "rf_probs = best_random.predict_proba(important_test_features)[:, 1]"
   ]
  },
  {
   "cell_type": "code",
   "execution_count": 433,
   "metadata": {},
   "outputs": [
    {
     "name": "stdout",
     "output_type": "stream",
     "text": [
      "Train ROC AUC Score: 0.9994339026406015\n",
      "Test ROC AUC  Score: 0.8796479569005743\n"
     ]
    }
   ],
   "source": [
    "from sklearn.metrics import precision_score, recall_score, roc_auc_score, roc_curve\n",
    "\n",
    "train_auc = roc_auc_score(train_labels, train_rf_probs)\n",
    "test_auc = roc_auc_score(test_labels, rf_probs)\n",
    "\n",
    "print(f'Train ROC AUC Score: {train_auc}')\n",
    "print(f'Test ROC AUC  Score: {test_auc}')"
   ]
  },
  {
   "cell_type": "code",
   "execution_count": 2,
   "metadata": {},
   "outputs": [],
   "source": [
    "def evaluate_model(predictions, probs, train_predictions, train_probs):\n",
    "    \"\"\"Compare machine learning model to baseline performance.\n",
    "    Computes statistics and shows ROC curve.\"\"\"\n",
    "    \n",
    "    baseline = {}\n",
    "    \n",
    "    baseline['recall'] = recall_score(test_labels, [1 for _ in range(len(test_labels))])\n",
    "    baseline['precision'] = precision_score(test_labels, [1 for _ in range(len(test_labels))])\n",
    "    baseline['roc'] = 0.5\n",
    "    \n",
    "    results = {}\n",
    "    \n",
    "    results['recall'] = recall_score(test_labels, predictions)\n",
    "    results['precision'] = precision_score(test_labels, predictions)\n",
    "    results['roc'] = roc_auc_score(test_labels, probs)\n",
    "    \n",
    "    train_results = {}\n",
    "    train_results['recall'] = recall_score(train_labels, train_predictions)\n",
    "    train_results['precision'] = precision_score(train_labels, train_predictions)\n",
    "    train_results['roc'] = roc_auc_score(train_labels, train_probs)\n",
    "    \n",
    "    for metric in ['recall', 'precision', 'roc']:\n",
    "        print(f'{metric.capitalize()} Baseline: {round(baseline[metric], 2)} Test: {round(results[metric], 2)} Train: {round(train_results[metric], 2)}')\n",
    "    \n",
    "    # Calculate false positive rates and true positive rates\n",
    "    base_fpr, base_tpr, _ = roc_curve(test_labels, [1 for _ in range(len(test_labels))])\n",
    "    model_fpr, model_tpr, _ = roc_curve(test_labels, probs)\n",
    "\n",
    "    plt.figure(figsize = (8, 6))\n",
    "    plt.rcParams['font.size'] = 16\n",
    "    \n",
    "    # Plot both curves\n",
    "    plt.plot(base_fpr, base_tpr, 'b', label = 'baseline')\n",
    "    plt.plot(model_fpr, model_tpr, 'r', label = 'model')\n",
    "    plt.legend();\n",
    "    plt.xlabel('False Positive Rate'); plt.ylabel('True Positive Rate'); plt.title('ROC Curves');"
   ]
  },
  {
   "cell_type": "code",
   "execution_count": 441,
   "metadata": {},
   "outputs": [
    {
     "name": "stdout",
     "output_type": "stream",
     "text": [
      "Recall Baseline: 1.0 Test: 0.57 Train: 0.99\n",
      "Precision Baseline: 0.25 Test: 0.77 Train: 0.98\n",
      "Roc Baseline: 0.5 Test: 0.88 Train: 1.0\n"
     ]
    },
    {
     "data": {
      "image/png": "[encoded data removed]",
      "text/plain": [
       "<Figure size 576x432 with 1 Axes>"
      ]
     },
     "metadata": {},
     "output_type": "display_data"
    }
   ],
   "source": [
    "evaluate_model(rf_predictions, rf_probs, train_rf_predictions, train_rf_probs)\n"
   ]
  },
  {
   "cell_type": "markdown",
   "metadata": {},
   "source": [
    "## confusion matrix"
   ]
  },
  {
   "cell_type": "code",
   "execution_count": 442,
   "metadata": {},
   "outputs": [],
   "source": [
    "from sklearn.metrics import confusion_matrix\n",
    "import itertools\n",
    "\n",
    "def plot_confusion_matrix(cm, classes,\n",
    "                          normalize=False,\n",
    "                          title='Confusion matrix',\n",
    "                          cmap=plt.cm.Oranges):\n",
    "    \"\"\"\n",
    "    This function prints and plots the confusion matrix.\n",
    "    Normalization can be applied by setting `normalize=True`.\n",
    "    Source: http://scikit-learn.org/stable/auto_examples/model_selection/plot_confusion_matrix.html\n",
    "    \"\"\"\n",
    "    if normalize:\n",
    "        cm = cm.astype('float') / cm.sum(axis=1)[:, np.newaxis]\n",
    "        print(\"Normalized confusion matrix\")\n",
    "    else:\n",
    "        print('Confusion matrix, without normalization')\n",
    "\n",
    "    print(cm)\n",
    "\n",
    "    plt.figure(figsize = (10, 10))\n",
    "    plt.imshow(cm, interpolation='nearest', cmap=cmap)\n",
    "    plt.title(title, size = 24)\n",
    "    plt.colorbar(aspect=4)\n",
    "    tick_marks = np.arange(len(classes))\n",
    "    plt.xticks(tick_marks, classes, rotation=45, size = 14)\n",
    "    plt.yticks(tick_marks, classes, size = 14)\n",
    "\n",
    "    fmt = '.2f' if normalize else 'd'\n",
    "    thresh = cm.max() / 2.\n",
    "    \n",
    "    # Labeling the plot\n",
    "    for i, j in itertools.product(range(cm.shape[0]), range(cm.shape[1])):\n",
    "        plt.text(j, i, format(cm[i, j], fmt), fontsize = 20,\n",
    "                 horizontalalignment=\"center\",\n",
    "                 color=\"white\" if cm[i, j] > thresh else \"black\")\n",
    "        \n",
    "    plt.grid(None)\n",
    "    plt.tight_layout()\n",
    "    plt.ylabel('True label', size = 18)\n",
    "    plt.xlabel('Predicted label', size = 18)"
   ]
  },
  {
   "cell_type": "code",
   "execution_count": 456,
   "metadata": {},
   "outputs": [
    {
     "name": "stdout",
     "output_type": "stream",
     "text": [
      "Confusion matrix, without normalization\n",
      "[[36931  2110]\n",
      " [ 5527  7208]]\n"
     ]
    },
    {
     "data": {
      "image/png": "[encoded data removed]",
      "text/plain": [
       "<Figure size 720x720 with 2 Axes>"
      ]
     },
     "metadata": {},
     "output_type": "display_data"
    }
   ],
   "source": [
    "\n",
    "cm = confusion_matrix(test_labels, rf_predictions)\n",
    "plot_confusion_matrix(cm, classes = ['No_Injury', 'Injury'],\n",
    "                      title = 'Confusion Matrix- best-random')"
   ]
  },
  {
   "cell_type": "code",
   "execution_count": 207,
   "metadata": {},
   "outputs": [
    {
     "data": {
      "text/plain": [
       "0.75"
      ]
     },
     "execution_count": 207,
     "metadata": {},
     "output_type": "execute_result"
    }
   ],
   "source": [
    "# auc example\n",
    "# from sklearn.metrics import roc_auc_score\n",
    "# y_true = np.array([0, 0, 1, 1])\n",
    "# y_scores = np.array([0.1, 0.4, 0.35, 0.8])\n",
    "# roc_auc_score(y_true, y_scores)"
   ]
  },
  {
   "cell_type": "markdown",
   "metadata": {},
   "source": [
    "## Grid Search\n",
    "We can now perform grid search building on the result from the random search. We will test a range of hyperparameters around the best values returned by base modoel."
   ]
  },
  {
   "cell_type": "code",
   "execution_count": 278,
   "metadata": {},
   "outputs": [],
   "source": [
    "from sklearn.model_selection import GridSearchCV\n",
    "\n",
    "# Create the parameter grid based on the results of random search \n",
    "param_grid = {\n",
    "    'bootstrap': [True],\n",
    "    'max_depth': [30,40,50],\n",
    "    'max_features': [2, 3],\n",
    "    'min_samples_leaf': [3, 4, 5],\n",
    "    'min_samples_split': [8, 10, 12],\n",
    "    'n_estimators': [,300,500,1000]\n",
    "}\n",
    "\n",
    "# Create a base model\n",
    "rf = RandomForestClassifier(random_state = 2003, class_weight='balanced',\n",
    "                                  oob_score='True', n_jobs=-1)\n",
    "\n",
    "\n",
    "\n",
    "# Instantiate the grid search model\n",
    "grid_search = GridSearchCV(estimator = rf, param_grid = param_grid, \n",
    "                          cv = 3, n_jobs = -1, verbose = 2, return_train_score=True)"
   ]
  },
  {
   "cell_type": "code",
   "execution_count": 280,
   "metadata": {},
   "outputs": [
    {
     "name": "stdout",
     "output_type": "stream",
     "text": [
      "Fitting 3 folds for each of 288 candidates, totalling 864 fits\n"
     ]
    },
    {
     "name": "stderr",
     "output_type": "stream",
     "text": [
      "[Parallel(n_jobs=-1)]: Using backend LokyBackend with 16 concurrent workers.\n",
      "[Parallel(n_jobs=-1)]: Done   9 tasks      | elapsed:  3.7min\n",
      "[Parallel(n_jobs=-1)]: Done 130 tasks      | elapsed: 34.0min\n",
      "[Parallel(n_jobs=-1)]: Done 333 tasks      | elapsed: 91.7min\n",
      "[Parallel(n_jobs=-1)]: Done 616 tasks      | elapsed: 177.3min\n",
      "[Parallel(n_jobs=-1)]: Done 864 out of 864 | elapsed: 249.0min finished\n"
     ]
    }
   ],
   "source": [
    "# Fit the grid search to the important_train_features\n",
    "grid_search.fit(important_train_features, train_labels);"
   ]
  },
  {
   "cell_type": "code",
   "execution_count": 281,
   "metadata": {},
   "outputs": [
    {
     "data": {
      "text/plain": [
       "{'bootstrap': True,\n",
       " 'max_depth': 40,\n",
       " 'max_features': 3,\n",
       " 'min_samples_leaf': 3,\n",
       " 'min_samples_split': 8,\n",
       " 'n_estimators': 500}"
      ]
     },
     "execution_count": 281,
     "metadata": {},
     "output_type": "execute_result"
    }
   ],
   "source": [
    "grid_search.best_params_"
   ]
  },
  {
   "cell_type": "code",
   "execution_count": 428,
   "metadata": {},
   "outputs": [],
   "source": [
    "best_grid = grid_search.best_estimator_"
   ]
  },
  {
   "cell_type": "code",
   "execution_count": 429,
   "metadata": {},
   "outputs": [
    {
     "ename": "ValueError",
     "evalue": "Number of features of the model must match the input. Model n_features is 171 and input n_features is 170 ",
     "output_type": "error",
     "traceback": [
      "\u001b[1;31m---------------------------------------------------------------------------\u001b[0m",
      "\u001b[1;31mValueError\u001b[0m                                Traceback (most recent call last)",
      "\u001b[1;32m<ipython-input-429-b1134cdd1899>\u001b[0m in \u001b[0;36m<module>\u001b[1;34m\u001b[0m\n\u001b[1;32m----> 1\u001b[1;33m \u001b[0mgrid_performance\u001b[0m \u001b[1;33m=\u001b[0m \u001b[0mevaluate\u001b[0m\u001b[1;33m(\u001b[0m\u001b[0mbest_grid\u001b[0m\u001b[1;33m,\u001b[0m \u001b[0mimportant_test_features\u001b[0m\u001b[1;33m,\u001b[0m\u001b[0mtest_labels\u001b[0m\u001b[1;33m)\u001b[0m\u001b[1;33m\u001b[0m\u001b[1;33m\u001b[0m\u001b[0m\n\u001b[0m\u001b[0;32m      2\u001b[0m \u001b[0mgrid_performance\u001b[0m\u001b[1;33m\u001b[0m\u001b[1;33m\u001b[0m\u001b[0m\n",
      "\u001b[1;32m<ipython-input-404-99e7666206d7>\u001b[0m in \u001b[0;36mevaluate\u001b[1;34m(model, test_features, test_labels)\u001b[0m\n\u001b[0;32m      2\u001b[0m \u001b[1;32mfrom\u001b[0m \u001b[0msklearn\u001b[0m \u001b[1;32mimport\u001b[0m \u001b[0mmetrics\u001b[0m \u001b[1;32mas\u001b[0m \u001b[0mmt\u001b[0m\u001b[1;33m\u001b[0m\u001b[1;33m\u001b[0m\u001b[0m\n\u001b[0;32m      3\u001b[0m \u001b[1;32mdef\u001b[0m \u001b[0mevaluate\u001b[0m\u001b[1;33m(\u001b[0m\u001b[0mmodel\u001b[0m\u001b[1;33m,\u001b[0m \u001b[0mtest_features\u001b[0m\u001b[1;33m,\u001b[0m \u001b[0mtest_labels\u001b[0m\u001b[1;33m)\u001b[0m\u001b[1;33m:\u001b[0m\u001b[1;33m\u001b[0m\u001b[1;33m\u001b[0m\u001b[0m\n\u001b[1;32m----> 4\u001b[1;33m     \u001b[0mpredictions\u001b[0m \u001b[1;33m=\u001b[0m \u001b[0mmodel\u001b[0m\u001b[1;33m.\u001b[0m\u001b[0mpredict\u001b[0m\u001b[1;33m(\u001b[0m\u001b[0mtest_features\u001b[0m\u001b[1;33m)\u001b[0m\u001b[1;33m\u001b[0m\u001b[1;33m\u001b[0m\u001b[0m\n\u001b[0m\u001b[0;32m      5\u001b[0m     \u001b[0moob_score\u001b[0m \u001b[1;33m=\u001b[0m \u001b[0mmodel\u001b[0m\u001b[1;33m.\u001b[0m\u001b[0moob_score_\u001b[0m\u001b[1;33m\u001b[0m\u001b[1;33m\u001b[0m\u001b[0m\n\u001b[0;32m      6\u001b[0m     \u001b[0mreport\u001b[0m\u001b[1;33m=\u001b[0m \u001b[0mmt\u001b[0m\u001b[1;33m.\u001b[0m\u001b[0mclassification_report\u001b[0m\u001b[1;33m(\u001b[0m\u001b[0mtest_labels\u001b[0m\u001b[1;33m,\u001b[0m \u001b[0mpredictions\u001b[0m\u001b[1;33m)\u001b[0m\u001b[1;33m\u001b[0m\u001b[1;33m\u001b[0m\u001b[0m\n",
      "\u001b[1;32m~\\Anaconda3\\lib\\site-packages\\sklearn\\ensemble\\_forest.py\u001b[0m in \u001b[0;36mpredict\u001b[1;34m(self, X)\u001b[0m\n\u001b[0;32m    610\u001b[0m             \u001b[0mThe\u001b[0m \u001b[0mpredicted\u001b[0m \u001b[0mclasses\u001b[0m\u001b[1;33m.\u001b[0m\u001b[1;33m\u001b[0m\u001b[1;33m\u001b[0m\u001b[0m\n\u001b[0;32m    611\u001b[0m         \"\"\"\n\u001b[1;32m--> 612\u001b[1;33m         \u001b[0mproba\u001b[0m \u001b[1;33m=\u001b[0m \u001b[0mself\u001b[0m\u001b[1;33m.\u001b[0m\u001b[0mpredict_proba\u001b[0m\u001b[1;33m(\u001b[0m\u001b[0mX\u001b[0m\u001b[1;33m)\u001b[0m\u001b[1;33m\u001b[0m\u001b[1;33m\u001b[0m\u001b[0m\n\u001b[0m\u001b[0;32m    613\u001b[0m \u001b[1;33m\u001b[0m\u001b[0m\n\u001b[0;32m    614\u001b[0m         \u001b[1;32mif\u001b[0m \u001b[0mself\u001b[0m\u001b[1;33m.\u001b[0m\u001b[0mn_outputs_\u001b[0m \u001b[1;33m==\u001b[0m \u001b[1;36m1\u001b[0m\u001b[1;33m:\u001b[0m\u001b[1;33m\u001b[0m\u001b[1;33m\u001b[0m\u001b[0m\n",
      "\u001b[1;32m~\\Anaconda3\\lib\\site-packages\\sklearn\\ensemble\\_forest.py\u001b[0m in \u001b[0;36mpredict_proba\u001b[1;34m(self, X)\u001b[0m\n\u001b[0;32m    654\u001b[0m         \u001b[0mcheck_is_fitted\u001b[0m\u001b[1;33m(\u001b[0m\u001b[0mself\u001b[0m\u001b[1;33m)\u001b[0m\u001b[1;33m\u001b[0m\u001b[1;33m\u001b[0m\u001b[0m\n\u001b[0;32m    655\u001b[0m         \u001b[1;31m# Check data\u001b[0m\u001b[1;33m\u001b[0m\u001b[1;33m\u001b[0m\u001b[1;33m\u001b[0m\u001b[0m\n\u001b[1;32m--> 656\u001b[1;33m         \u001b[0mX\u001b[0m \u001b[1;33m=\u001b[0m \u001b[0mself\u001b[0m\u001b[1;33m.\u001b[0m\u001b[0m_validate_X_predict\u001b[0m\u001b[1;33m(\u001b[0m\u001b[0mX\u001b[0m\u001b[1;33m)\u001b[0m\u001b[1;33m\u001b[0m\u001b[1;33m\u001b[0m\u001b[0m\n\u001b[0m\u001b[0;32m    657\u001b[0m \u001b[1;33m\u001b[0m\u001b[0m\n\u001b[0;32m    658\u001b[0m         \u001b[1;31m# Assign chunk of trees to jobs\u001b[0m\u001b[1;33m\u001b[0m\u001b[1;33m\u001b[0m\u001b[1;33m\u001b[0m\u001b[0m\n",
      "\u001b[1;32m~\\Anaconda3\\lib\\site-packages\\sklearn\\ensemble\\_forest.py\u001b[0m in \u001b[0;36m_validate_X_predict\u001b[1;34m(self, X)\u001b[0m\n\u001b[0;32m    410\u001b[0m         \u001b[0mcheck_is_fitted\u001b[0m\u001b[1;33m(\u001b[0m\u001b[0mself\u001b[0m\u001b[1;33m)\u001b[0m\u001b[1;33m\u001b[0m\u001b[1;33m\u001b[0m\u001b[0m\n\u001b[0;32m    411\u001b[0m \u001b[1;33m\u001b[0m\u001b[0m\n\u001b[1;32m--> 412\u001b[1;33m         \u001b[1;32mreturn\u001b[0m \u001b[0mself\u001b[0m\u001b[1;33m.\u001b[0m\u001b[0mestimators_\u001b[0m\u001b[1;33m[\u001b[0m\u001b[1;36m0\u001b[0m\u001b[1;33m]\u001b[0m\u001b[1;33m.\u001b[0m\u001b[0m_validate_X_predict\u001b[0m\u001b[1;33m(\u001b[0m\u001b[0mX\u001b[0m\u001b[1;33m,\u001b[0m \u001b[0mcheck_input\u001b[0m\u001b[1;33m=\u001b[0m\u001b[1;32mTrue\u001b[0m\u001b[1;33m)\u001b[0m\u001b[1;33m\u001b[0m\u001b[1;33m\u001b[0m\u001b[0m\n\u001b[0m\u001b[0;32m    413\u001b[0m \u001b[1;33m\u001b[0m\u001b[0m\n\u001b[0;32m    414\u001b[0m     \u001b[1;33m@\u001b[0m\u001b[0mproperty\u001b[0m\u001b[1;33m\u001b[0m\u001b[1;33m\u001b[0m\u001b[0m\n",
      "\u001b[1;32m~\\Anaconda3\\lib\\site-packages\\sklearn\\tree\\_classes.py\u001b[0m in \u001b[0;36m_validate_X_predict\u001b[1;34m(self, X, check_input)\u001b[0m\n\u001b[0;32m    389\u001b[0m                              \u001b[1;34m\"match the input. Model n_features is %s and \"\u001b[0m\u001b[1;33m\u001b[0m\u001b[1;33m\u001b[0m\u001b[0m\n\u001b[0;32m    390\u001b[0m                              \u001b[1;34m\"input n_features is %s \"\u001b[0m\u001b[1;33m\u001b[0m\u001b[1;33m\u001b[0m\u001b[0m\n\u001b[1;32m--> 391\u001b[1;33m                              % (self.n_features_, n_features))\n\u001b[0m\u001b[0;32m    392\u001b[0m \u001b[1;33m\u001b[0m\u001b[0m\n\u001b[0;32m    393\u001b[0m         \u001b[1;32mreturn\u001b[0m \u001b[0mX\u001b[0m\u001b[1;33m\u001b[0m\u001b[1;33m\u001b[0m\u001b[0m\n",
      "\u001b[1;31mValueError\u001b[0m: Number of features of the model must match the input. Model n_features is 171 and input n_features is 170 "
     ]
    }
   ],
   "source": [
    "grid_performance = evaluate(best_grid, important_test_features,test_labels)\n",
    "grid_performance"
   ]
  },
  {
   "cell_type": "code",
   "execution_count": null,
   "metadata": {},
   "outputs": [],
   "source": []
  },
  {
   "cell_type": "markdown",
   "metadata": {},
   "source": [
    "# Random Forest Results\n",
    "\n",
    "We will use important features only."
   ]
  },
  {
   "cell_type": "code",
   "execution_count": 291,
   "metadata": {},
   "outputs": [],
   "source": [
    "train_rf_predictions = best_grid.predict(important_train_features)\n",
    "train_rf_probs = best_grid.predict_proba(important_train_features)[:, 1]\n",
    "\n",
    "rf_predictions = best_grid.predict(important_test_features)\n",
    "rf_probs = best_grid.predict_proba(important_test_features)[:, 1]"
   ]
  },
  {
   "cell_type": "code",
   "execution_count": 298,
   "metadata": {},
   "outputs": [
    {
     "name": "stdout",
     "output_type": "stream",
     "text": [
      "Train ROC AUC Score: 0.9618386446925643\n",
      "Test ROC AUC  Score: 0.9089810378943132\n"
     ]
    }
   ],
   "source": [
    "from sklearn.metrics import precision_score, recall_score, roc_auc_score, roc_curve\n",
    "\n",
    "print(f'Train ROC AUC Score: {roc_auc_score(train_labels, train_rf_probs)}')\n",
    "print(f'Test ROC AUC  Score: {roc_auc_score(test_labels, rf_probs)}')"
   ]
  },
  {
   "cell_type": "code",
   "execution_count": 300,
   "metadata": {},
   "outputs": [
    {
     "name": "stdout",
     "output_type": "stream",
     "text": [
      "Recall Baseline: 1.0 Test: 0.8 Train: 0.88\n",
      "Precision Baseline: 0.25 Test: 0.68 Train: 0.74\n",
      "Roc Baseline: 0.5 Test: 0.91 Train: 0.96\n"
     ]
    },
    {
     "data": {
      "image/png": "[encoded data removed]",
      "text/plain": [
       "<Figure size 576x432 with 1 Axes>"
      ]
     },
     "metadata": {},
     "output_type": "display_data"
    }
   ],
   "source": [
    "evaluate_model(rf_predictions, rf_probs, train_rf_predictions, train_rf_probs)\n"
   ]
  },
  {
   "cell_type": "markdown",
   "metadata": {},
   "source": [
    "## confusion matrix"
   ]
  },
  {
   "cell_type": "code",
   "execution_count": 378,
   "metadata": {},
   "outputs": [
    {
     "name": "stdout",
     "output_type": "stream",
     "text": [
      "Confusion matrix, without normalization\n",
      "[[34248  4793]\n",
      " [ 2597 10138]]\n"
     ]
    },
    {
     "data": {
      "image/png": "[encoded data removed]",
      "text/plain": [
       "<Figure size 720x720 with 2 Axes>"
      ]
     },
     "metadata": {},
     "output_type": "display_data"
    }
   ],
   "source": [
    "cm = confusion_matrix(test_labels, rf_predictions)\n",
    "plot_confusion_matrix(cm, classes = ['No Injury', 'Injury'],\n",
    "                      title = 'Confusion Matrix')"
   ]
  },
  {
   "cell_type": "code",
   "execution_count": 306,
   "metadata": {},
   "outputs": [
    {
     "data": {
      "text/plain": [
       "array([[34248,  4793],\n",
       "       [ 2597, 10138]], dtype=int64)"
      ]
     },
     "execution_count": 306,
     "metadata": {},
     "output_type": "execute_result"
    }
   ],
   "source": [
    "confusion_matrix(test_labels, rf_predictions)"
   ]
  }
 ],
 "metadata": {
  "kernelspec": {
   "display_name": "Python 3",
   "language": "python",
   "name": "python3"
  },
  "language_info": {
   "codemirror_mode": {
    "name": "ipython",
    "version": 3
   },
   "file_extension": ".py",
   "mimetype": "text/x-python",
   "name": "python",
   "nbconvert_exporter": "python",
   "pygments_lexer": "ipython3",
   "version": "3.7.1"
  }
 },
 "nbformat": 4,
 "nbformat_minor": 4
}
